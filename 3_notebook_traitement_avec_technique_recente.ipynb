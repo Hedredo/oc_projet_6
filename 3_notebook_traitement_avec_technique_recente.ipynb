{
 "cells": [
  {
   "cell_type": "markdown",
   "metadata": {},
   "source": [
    "**Livrable** : Travail de veille et preuve de concept d’une technique récente et conclusion (4 minutes) <br>\n",
    "Attention, le contenu de ce livrable n'est pas clairement défini."
   ]
  },
  {
   "cell_type": "code",
   "execution_count": null,
   "metadata": {},
   "outputs": [],
   "source": []
  }
 ],
 "metadata": {
  "kernelspec": {
   "display_name": ".venv",
   "language": "python",
   "name": "python3"
  },
  "language_info": {
   "name": "python",
   "version": "3.11.8"
  }
 },
 "nbformat": 4,
 "nbformat_minor": 2
}
