{
 "cells": [
  {
   "cell_type": "code",
   "execution_count": 1,
   "metadata": {},
   "outputs": [],
   "source": [
    "%%capture\n",
    "%run preprocessing.ipynb"
   ]
  },
  {
   "cell_type": "code",
   "execution_count": 2,
   "metadata": {},
   "outputs": [
    {
     "name": "stdout",
     "output_type": "stream",
     "text": [
      "Variable   Type         Data/Info\n",
      "---------------------------------\n",
      "flipkart   DataFrame                             <...>\\n[1050 rows x 4 columns]\n",
      "gc         module       <module 'gc' (built-in)>\n",
      "msno       module       <module 'missingno' from <...>\\missingno\\\\__init__.py'>\n",
      "os         module       <module 'os' (frozen)>\n",
      "pd         module       <module 'pandas' from 'c:<...>es\\\\pandas\\\\__init__.py'>\n",
      "plt        module       <module 'matplotlib.pyplo<...>\\\\matplotlib\\\\pyplot.py'>\n"
     ]
    }
   ],
   "source": [
    "# Affiche les variables et modules importés depuis le notebook preprocessing.ipynb\n",
    "%whos"
   ]
  },
  {
   "cell_type": "code",
   "execution_count": null,
   "metadata": {},
   "outputs": [],
   "source": [
    "# Autres imports\n",
    "\n",
    "# Définit le nombre de coeurs utilisés à 10\n",
    "os.environ['LOKY_MAX_CPU_COUNT'] = '10'"
   ]
  },
  {
   "cell_type": "markdown",
   "metadata": {},
   "source": [
    "Le dataframe flipkart a été chargé lors du préprocessing dans les globals, réassignons le au nom flipkart pour plus de clarté."
   ]
  },
  {
   "cell_type": "code",
   "execution_count": 4,
   "metadata": {},
   "outputs": [
    {
     "name": "stdout",
     "output_type": "stream",
     "text": [
      "<class 'pandas.core.frame.DataFrame'>\n",
      "RangeIndex: 1050 entries, 0 to 1049\n",
      "Data columns (total 4 columns):\n",
      " #   Column        Non-Null Count  Dtype \n",
      "---  ------        --------------  ----- \n",
      " 0   product_name  1050 non-null   object\n",
      " 1   image         1050 non-null   object\n",
      " 2   description   1050 non-null   object\n",
      " 3   class         1050 non-null   object\n",
      "dtypes: object(4)\n",
      "memory usage: 32.9+ KB\n",
      "None\n"
     ]
    }
   ],
   "source": [
    "flipkart = globals()['flipkart']\n",
    "print(flipkart.info())"
   ]
  },
  {
   "cell_type": "markdown",
   "metadata": {},
   "source": [
    "## EDA sur le texte"
   ]
  },
  {
   "cell_type": "markdown",
   "metadata": {},
   "source": [
    "Avant d'étudier le texte, je vais procéder à léger nettoyage de valeurs textuelles abbérantes :\n",
    "- Ajout d'un espace après un point qui "
   ]
  },
  {
   "cell_type": "code",
   "execution_count": null,
   "metadata": {},
   "outputs": [
    {
     "data": {
      "text/plain": [
       "description\n",
       "0     334\n",
       "1     331\n",
       "2     259\n",
       "3      88\n",
       "5       8\n",
       "4       8\n",
       "6       7\n",
       "18      6\n",
       "8       4\n",
       "9       2\n",
       "7       1\n",
       "10      1\n",
       "11      1\n",
       "Name: count, dtype: int64"
      ]
     },
     "metadata": {},
     "output_type": "display_data"
    }
   ],
   "source": [
    "# Define a pattern to capture every word with a point inside\n",
    "pattern = r\"\\w+\\.\\w+\"\n",
    "\n",
    "# Find and display the words that match the pattern in the description column\n",
    "flipkart_filtered[\"description\"].str.findall(pattern).apply(len).value_counts()"
   ]
  },
  {
   "cell_type": "code",
   "execution_count": null,
   "metadata": {},
   "outputs": [
    {
     "data": {
      "text/plain": [
       "description\n",
       "0    1050\n",
       "Name: count, dtype: int64"
      ]
     },
     "metadata": {},
     "output_type": "display_data"
    }
   ],
   "source": [
    "# Define a pattern to match urls in the description column\n",
    "pattern = r\"www\\.\\S+\"\n",
    "\n",
    "# Find and display the urls that match the pattern in the description column\n",
    "flipkart_filtered[\"description\"].str.findall(pattern).apply(len).value_counts()"
   ]
  },
  {
   "cell_type": "code",
   "execution_count": null,
   "metadata": {},
   "outputs": [
    {
     "data": {
      "text/plain": [
       "description\n",
       "0    1049\n",
       "1       1\n",
       "Name: count, dtype: int64"
      ]
     },
     "metadata": {},
     "output_type": "display_data"
    }
   ],
   "source": [
    "# Define an email pattern to match emails in the description column\n",
    "pattern = r\"\\b[A-Za-z0-9._%+-]+@[A-Za-z0-9.-]+\\.[A-Z|a-z]{2,}\\b\"\n",
    "\n",
    "# Find and display the emails that match the pattern in the description column\n",
    "flipkart_filtered[\"description\"].str.findall(pattern).apply(len).value_counts()"
   ]
  },
  {
   "cell_type": "code",
   "execution_count": null,
   "metadata": {},
   "outputs": [
    {
     "data": {
      "text/plain": [
       "description\n",
       "0    1050\n",
       "Name: count, dtype: int64"
      ]
     },
     "metadata": {},
     "output_type": "display_data"
    }
   ],
   "source": [
    "# Define a pattern to capture the phone numbers in the description column\n",
    "pattern = r\"\\b\\d{10}\\b\"\n",
    "\n",
    "# Find and display the phone numbers that match the pattern in the description column\n",
    "flipkart_filtered[\"description\"].str.findall(pattern).apply(len).value_counts()"
   ]
  },
  {
   "cell_type": "markdown",
   "metadata": {},
   "source": [
    "## Identification des erreurs d'encodage dans les colonnes textes"
   ]
  },
  {
   "cell_type": "markdown",
   "metadata": {},
   "source": [
    "J'ai identifié un problème d'encodage dans les colonnes textuelles avec le caractère �.<br>\n",
    "Regardons les colonnes textuelles pour vérifier la présence de ce caractère."
   ]
  },
  {
   "cell_type": "code",
   "execution_count": null,
   "metadata": {},
   "outputs": [
    {
     "data": {
      "text/plain": [
       "uniq_id                    0.0\n",
       "image                      0.0\n",
       "product_name               3.0\n",
       "category_0                 0.0\n",
       "category_1                 0.0\n",
       "category_2                 0.0\n",
       "category_3                 0.0\n",
       "category_4                 1.0\n",
       "category_5                 0.0\n",
       "category_6                 0.0\n",
       "description               11.0\n",
       "product_specifications     4.0\n",
       "dtype: float64"
      ]
     },
     "metadata": {},
     "output_type": "display_data"
    }
   ],
   "source": [
    "# Define the problematic pattern\n",
    "pattern = \"�\"\n",
    "\n",
    "# Check if the flipkart_filtered DataFrame contains the character �\n",
    "flipkart_filtered.select_dtypes(include=\"object\").apply(\n",
    "    lambda x: x.str.count(pattern).sum()\n",
    ")"
   ]
  },
  {
   "cell_type": "code",
   "execution_count": null,
   "metadata": {},
   "outputs": [
    {
     "name": "stdout",
     "output_type": "stream",
     "text": [
      "[('uniq_id', []), ('image', []), ('product_name', ['Repouss______', '___']), ('category_0', []), ('category_1', []), ('category_2', []), ('category_3', []), ('category_4', ['___']), ('category_5', []), ('category_6', []), ('description', ['Repouss______', 'Repouss______', '___To', '___', '___To', '___', '___', 'd___cor', 'd___cor']), ('product_specifications', ['Repouss______', 'Repouss______'])]\n",
      "[('uniq_id', []), ('image', []), ('product_name', [' ___ ']), ('category_0', []), ('category_1', []), ('category_2', []), ('category_3', []), ('category_4', [' ___ ']), ('category_5', []), ('category_6', []), ('description', ['.___\\r\\n', '.___', ' ___ ']), ('product_specifications', [])]\n"
     ]
    }
   ],
   "source": [
    "# Create a new list\n",
    "words = []\n",
    "non_words = []\n",
    "\n",
    "# Create a pattern to match words containing the character � with a pattern like \"___\" which doesn't exist in the text\n",
    "word_pattern = r\"\\b\\w*___\\w*\\b\"\n",
    "nonword_pattern = r\"\\b\\W*___\\W*\\b\"\n",
    "\n",
    "# Add each word with word_pattern to the words list and each word with nonword_pattern to the non_words list\n",
    "for column in flipkart_filtered.select_dtypes(include=\"object\").replace(\"�\", \"___\"):\n",
    "    words.append(\n",
    "        (\n",
    "            column,\n",
    "            flipkart_filtered[column]\n",
    "            .dropna()\n",
    "            .str.replace(\"�\", \"___\")\n",
    "            .str.findall(word_pattern)\n",
    "            .sum(),\n",
    "        )\n",
    "    )\n",
    "    non_words.append(\n",
    "        (\n",
    "            column,\n",
    "            flipkart_filtered[column]\n",
    "            .dropna()\n",
    "            .str.replace(\"�\", \"___\")\n",
    "            .str.findall(nonword_pattern)\n",
    "            .sum(),\n",
    "        )\n",
    "    )\n",
    "\n",
    "# Print the words and non_words lists\n",
    "print(words)\n",
    "print(non_words)"
   ]
  },
  {
   "cell_type": "markdown",
   "metadata": {},
   "source": [
    "Après inspection des passages concernée, je peux remplacer les passages spécifiques avec \"Repouss��\" et \"d�cor\" par \"Repousse\" et \"decor\" respectivement.<br>\n",
    "Pour le reste, je vais supprimer les occurences de ce caractère."
   ]
  },
  {
   "cell_type": "code",
   "execution_count": null,
   "metadata": {},
   "outputs": [],
   "source": [
    "# Define the pattern to match\n",
    "pattern_1 = \"Repouss��\"\n",
    "pattern_2 = \"d�cor\"\n",
    "\n",
    "# Replace the pattern_1 by \"Repoussé\" and the pattern_2 by \"décor\" in the product_specifications column\n",
    "for column in flipkart_filtered.select_dtypes(include=\"object\"):\n",
    "    flipkart_filtered[column] = (\n",
    "        flipkart_filtered[column]\n",
    "        .str.replace(pattern_1, \"Repoussé\")\n",
    "        .str.replace(pattern_2, \"décor\")\n",
    "        .str.replace(pattern, \"\")\n",
    "    )\n",
    "\n",
    "# Check if the flipkart_filtered DataFrame contains the character �\n",
    "assert (\n",
    "    flipkart_filtered.select_dtypes(include=\"object\")\n",
    "    .apply(lambda x: x.str.count(pattern).sum())\n",
    "    .sum()\n",
    "    == 0.0\n",
    "), \"Il reste encore des caractères � dans le DataFrame\""
   ]
  },
  {
   "cell_type": "code",
   "execution_count": null,
   "metadata": {},
   "outputs": [],
   "source": [
    "# Concatenante the product_name and description columns\n",
    "flipkart_filtered[\"text\"] = (\n",
    "    flipkart_filtered[\"product_name\"] + \" \" + flipkart_filtered[\"description\"]\n",
    ")"
   ]
  },
  {
   "cell_type": "markdown",
   "metadata": {},
   "source": [
    "Nous allons étudier parmi les deux colonnes plusieurs statistiques descriptives pour mieux comprendre leur composition et leur distribution.<br>\n",
    "Pour faciliter la tâche, je vais utiliser Spacy pour tokeniser les colonnes 'product_name', 'description' et `text` puis réaliser l'étude des tokens.<br>\n",
    "Concernant le modèle, je vais utiliser le modèle 'en_core_web_trf' pour sa performance sur la lemmatisation."
   ]
  },
  {
   "cell_type": "code",
   "execution_count": null,
   "metadata": {},
   "outputs": [
    {
     "name": "stdout",
     "output_type": "stream",
     "text": [
      "Liste des composantes du pipeline:\n",
      "['transformer', 'tagger', 'parser', 'attribute_ruler', 'lemmatizer', 'ner']\n"
     ]
    }
   ],
   "source": [
    "# Load the en_core_web_trf model\n",
    "trf = spacy.load(\"en_core_web_trf\")\n",
    "\n",
    "# Display the pipeline components into the trf\n",
    "print(\"Liste des composantes du pipeline:\")\n",
    "print(trf.pipe_names)"
   ]
  },
  {
   "cell_type": "markdown",
   "metadata": {},
   "source": [
    "Seul le NER n'a aucun impact sur la qualité de la lemmatisation donc nous le désactivons :"
   ]
  },
  {
   "cell_type": "code",
   "execution_count": null,
   "metadata": {},
   "outputs": [
    {
     "name": "stdout",
     "output_type": "stream",
     "text": [
      "Composante désactivée:  ['ner']\n"
     ]
    }
   ],
   "source": [
    "# Deactivate the NER component\n",
    "print(\"Composante désactivée: \", trf.disable_pipes(\"ner\"))"
   ]
  },
  {
   "cell_type": "code",
   "execution_count": null,
   "metadata": {},
   "outputs": [],
   "source": [
    "# Define a list with our 3 columns\n",
    "options = [\"product_name\", \"description\", \"text\"]"
   ]
  },
  {
   "cell_type": "code",
   "execution_count": null,
   "metadata": {},
   "outputs": [],
   "source": [
    "for option in options:\n",
    "    # Create a doc object for each column in the options list\n",
    "    flipkart_filtered[option + \"_nb_tokens\"] = [\n",
    "        len(doc) for doc in flipkart_filtered[option].str.split()\n",
    "    ]"
   ]
  },
  {
   "cell_type": "code",
   "execution_count": null,
   "metadata": {},
   "outputs": [
    {
     "data": {
      "image/png": "[encoded data removed]",
      "text/plain": [
       "<Figure size 1000x400 with 1 Axes>"
      ]
     },
     "metadata": {},
     "output_type": "display_data"
    }
   ],
   "source": [
    "flipkart_filtered.boxplot(\n",
    "    column=[\"product_name_nb_tokens\", \"description_nb_tokens\", \"text_nb_tokens\"],\n",
    "    vert=False,\n",
    "    figsize=(10, 4),\n",
    ").set(title=\"Nombre de tokens par colonne\")\n",
    "plt.show()"
   ]
  },
  {
   "cell_type": "code",
   "execution_count": null,
   "metadata": {},
   "outputs": [
    {
     "data": {
      "text/html": [
       "<div>\n",
       "<style scoped>\n",
       "    .dataframe tbody tr th:only-of-type {\n",
       "        vertical-align: middle;\n",
       "    }\n",
       "\n",
       "    .dataframe tbody tr th {\n",
       "        vertical-align: top;\n",
       "    }\n",
       "\n",
       "    .dataframe thead th {\n",
       "        text-align: right;\n",
       "    }\n",
       "</style>\n",
       "<table border=\"1\" class=\"dataframe\">\n",
       "  <thead>\n",
       "    <tr style=\"text-align: right;\">\n",
       "      <th></th>\n",
       "      <th>product_name_nb_tokens</th>\n",
       "      <th>description_nb_tokens</th>\n",
       "      <th>text_nb_tokens</th>\n",
       "    </tr>\n",
       "  </thead>\n",
       "  <tbody>\n",
       "    <tr>\n",
       "      <th>count</th>\n",
       "      <td>1050.000000</td>\n",
       "      <td>1050.000000</td>\n",
       "      <td>1050.000000</td>\n",
       "    </tr>\n",
       "    <tr>\n",
       "      <th>mean</th>\n",
       "      <td>7.266667</td>\n",
       "      <td>76.201905</td>\n",
       "      <td>83.468571</td>\n",
       "    </tr>\n",
       "    <tr>\n",
       "      <th>std</th>\n",
       "      <td>2.890656</td>\n",
       "      <td>74.850937</td>\n",
       "      <td>75.194260</td>\n",
       "    </tr>\n",
       "    <tr>\n",
       "      <th>min</th>\n",
       "      <td>2.000000</td>\n",
       "      <td>13.000000</td>\n",
       "      <td>19.000000</td>\n",
       "    </tr>\n",
       "    <tr>\n",
       "      <th>25%</th>\n",
       "      <td>5.000000</td>\n",
       "      <td>30.000000</td>\n",
       "      <td>36.000000</td>\n",
       "    </tr>\n",
       "    <tr>\n",
       "      <th>50%</th>\n",
       "      <td>7.000000</td>\n",
       "      <td>44.000000</td>\n",
       "      <td>54.000000</td>\n",
       "    </tr>\n",
       "    <tr>\n",
       "      <th>75%</th>\n",
       "      <td>9.000000</td>\n",
       "      <td>94.000000</td>\n",
       "      <td>102.000000</td>\n",
       "    </tr>\n",
       "    <tr>\n",
       "      <th>max</th>\n",
       "      <td>27.000000</td>\n",
       "      <td>587.000000</td>\n",
       "      <td>592.000000</td>\n",
       "    </tr>\n",
       "  </tbody>\n",
       "</table>\n",
       "</div>"
      ],
      "text/plain": [
       "       product_name_nb_tokens  description_nb_tokens  text_nb_tokens\n",
       "count             1050.000000            1050.000000     1050.000000\n",
       "mean                 7.266667              76.201905       83.468571\n",
       "std                  2.890656              74.850937       75.194260\n",
       "min                  2.000000              13.000000       19.000000\n",
       "25%                  5.000000              30.000000       36.000000\n",
       "50%                  7.000000              44.000000       54.000000\n",
       "75%                  9.000000              94.000000      102.000000\n",
       "max                 27.000000             587.000000      592.000000"
      ]
     },
     "metadata": {},
     "output_type": "display_data"
    }
   ],
   "source": [
    "flipkart_filtered[\n",
    "    [\"product_name_nb_tokens\", \"description_nb_tokens\", \"text_nb_tokens\"]\n",
    "].describe()"
   ]
  },
  {
   "cell_type": "markdown",
   "metadata": {},
   "source": []
  },
  {
   "cell_type": "code",
   "execution_count": null,
   "metadata": {},
   "outputs": [],
   "source": [
    "# Création d'un dictionnaire raw_vocab"
   ]
  }
 ],
 "metadata": {
  "kernelspec": {
   "display_name": ".venv",
   "language": "python",
   "name": "python3"
  },
  "language_info": {
   "codemirror_mode": {
    "name": "ipython",
    "version": 3
   },
   "file_extension": ".py",
   "mimetype": "text/x-python",
   "name": "python",
   "nbconvert_exporter": "python",
   "pygments_lexer": "ipython3",
   "version": "3.11.9"
  }
 },
 "nbformat": 4,
 "nbformat_minor": 2
}
