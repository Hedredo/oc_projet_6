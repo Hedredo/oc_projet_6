{
 "cells": [
  {
   "cell_type": "markdown",
   "metadata": {},
   "source": [
    "**Livrable** : Un ou des notebooks (ou des fichiers .py) contenant les fonctions permettant le prétraitement et la feature extraction des données textes et images ainsi que les résultats de l’étude de faisabilité (graphiques, mesure de similarité) "
   ]
  },
  {
   "cell_type": "code",
   "execution_count": 6,
   "metadata": {},
   "outputs": [],
   "source": [
    "%%capture\n",
    "!python -m spacy download en_core_web_sm\n",
    "!python -m spacy download en_core_web_md\n",
    "!python -m spacy download en_core_web_trf"
   ]
  },
  {
   "cell_type": "code",
   "execution_count": 7,
   "metadata": {},
   "outputs": [],
   "source": [
    "import os\n",
    "import pandas as pd\n",
    "import numpy as np"
   ]
  },
  {
   "cell_type": "markdown",
   "metadata": {},
   "source": [
    "# Lecture du jeu de données flipkart"
   ]
  },
  {
   "cell_type": "code",
   "execution_count": 8,
   "metadata": {},
   "outputs": [],
   "source": [
    "# Read the content of the flipkart.csv file\n",
    "flipkart = pd.read_csv('pj1_flipkart.csv', encoding='utf-8', encoding_errors='replace', parse_dates=['crawl_timestamp'])"
   ]
  },
  {
   "cell_type": "code",
   "execution_count": 9,
   "metadata": {},
   "outputs": [
    {
     "name": "stdout",
     "output_type": "stream",
     "text": [
      "<class 'pandas.core.frame.DataFrame'>\n",
      "RangeIndex: 1050 entries, 0 to 1049\n",
      "Data columns (total 15 columns):\n",
      " #   Column                   Non-Null Count  Dtype              \n",
      "---  ------                   --------------  -----              \n",
      " 0   uniq_id                  1050 non-null   object             \n",
      " 1   crawl_timestamp          1050 non-null   datetime64[ns, UTC]\n",
      " 2   product_url              1050 non-null   object             \n",
      " 3   product_name             1050 non-null   object             \n",
      " 4   product_category_tree    1050 non-null   object             \n",
      " 5   pid                      1050 non-null   object             \n",
      " 6   retail_price             1049 non-null   float64            \n",
      " 7   discounted_price         1049 non-null   float64            \n",
      " 8   image                    1050 non-null   object             \n",
      " 9   is_FK_Advantage_product  1050 non-null   bool               \n",
      " 10  description              1050 non-null   object             \n",
      " 11  product_rating           1050 non-null   object             \n",
      " 12  overall_rating           1050 non-null   object             \n",
      " 13  brand                    712 non-null    object             \n",
      " 14  product_specifications   1049 non-null   object             \n",
      "dtypes: bool(1), datetime64[ns, UTC](1), float64(2), object(11)\n",
      "memory usage: 116.0+ KB\n",
      "None\n"
     ]
    }
   ],
   "source": [
    "# Print the information of the flipkart DataFrame\n",
    "print(flipkart.info())"
   ]
  },
  {
   "cell_type": "markdown",
   "metadata": {},
   "source": [
    "# Commentaires sur le fichier flipkart après visualisation sur le data wrangler"
   ]
  },
  {
   "cell_type": "markdown",
   "metadata": {},
   "source": [
    "| Champs                    | Description                                                                                  | Utile |\n",
    "|---------------------------|----------------------------------------------------------------------------------------------|-------|\n",
    "| uniq_id                   | Nom des fichiers images dans le répertoire image                                             | O     |\n",
    "| crawl_timestamp           | Timestamp du crawler qui a récupéré les images                                               | N     |\n",
    "| product_url               | Lien URL contenant le product_name & le PID                          | N     |\n",
    "| product_name              | Nom du produit extrait de l'URL                                                             | O     |\n",
    "| product_category_tree     | Fil d'ariane à extraire de la catégorie de produit categorical                               | O     |\n",
    "| pid                       | Product ou Page ID                                                                                   | N     |\n",
    "| retail_price              | Prix                                                                                         | O     |\n",
    "| discounted_price          | Prix réduit                                                                                  | O     |\n",
    "| image                     | La même chose que uniq_id mais avec le format à la fin                                       | O     |\n",
    "| is_FK_Advantage_product   | Série booléenne de ?                                                                         | N     |\n",
    "| description               | Description string du produit                                                                | O     |\n",
    "| product_rating            | Note moyenne, attention les valeurs nulles sont remplacées par 'No rating available'         | O     |\n",
    "| overall_rating            | Semble identique                                                                             | N     |\n",
    "| brand                     | La marque, contient beaucoup de valeurs manquantes, peut être récupéré du product name       | N     |\n",
    "| product_specifications    | Sous forme de K-V pair sur les key feature du produit                                        | O     |\n"
   ]
  },
  {
   "cell_type": "markdown",
   "metadata": {},
   "source": [
    "# Vérification sur les champs"
   ]
  },
  {
   "cell_type": "markdown",
   "metadata": {},
   "source": [
    "En plus du fichier flipkart, nous avons un répertoire contenant les images des produits. <br>\n",
    "**Nous allons vérifier si les images dans le répertoire correspondent aux images dans le fichier flipkart** pour pouvoir ensuite rapprocher le dataset avec les images."
   ]
  },
  {
   "cell_type": "code",
   "execution_count": 10,
   "metadata": {},
   "outputs": [
    {
     "name": "stdout",
     "output_type": "stream",
     "text": [
      "Nombre de fichiers dans le répertoire Images:  1050\n",
      "La colonne uniq_id contient les mêmes noms que les fichiers dans le répertoire Images\n"
     ]
    }
   ],
   "source": [
    "# Count the number of files in the current directory\n",
    "print(\"Nombre de fichiers dans le répertoire Images: \", len(os.listdir(\"./Images\")))\n",
    "\n",
    "# Check if the number of lines in the flipkart.csv file is equal to the number of files in the Images directory\n",
    "assert (\n",
    "    len(os.listdir(\"./Images\")) == len(flipkart)\n",
    "), \"Le nombre de lignes ne corresponds pas au nombre de fichiers dans le repertoire Images\"\n",
    "\n",
    "# Check if the uniq_id column has the same names than the files in the Images directory\n",
    "files_without_jpg = [file.strip(\".jpg\") for file in os.listdir(\"./Images\")]\n",
    "assert (\n",
    "    flipkart[\"uniq_id\"].isin(files_without_jpg).all()\n",
    "), \"Les fichiers dans le repertoire Images ne correspondent pas aux fichiers dans le fichier flipkart.csv\"\n",
    "print(\"La colonne uniq_id contient les mêmes noms que les fichiers dans le répertoire Images\")\n"
   ]
  },
  {
   "cell_type": "code",
   "execution_count": 11,
   "metadata": {},
   "outputs": [
    {
     "name": "stdout",
     "output_type": "stream",
     "text": [
      "La colonne image est égale à la colonne uniq_id sans l'extension .jpg\n"
     ]
    }
   ],
   "source": [
    "# Check if the image column is equal to the uniq_id column with the .jpg extension\n",
    "assert flipkart[\"uniq_id\"].equals(\n",
    "    flipkart[\"image\"].str.strip(\".jpg\")\n",
    "), \"les colonnes image sans l'extension .jpg et uniq_id ne correspondent pas\"\n",
    "print(\"La colonne image est égale à la colonne uniq_id sans l'extension .jpg\")\n"
   ]
  },
  {
   "cell_type": "code",
   "execution_count": 12,
   "metadata": {},
   "outputs": [
    {
     "name": "stdout",
     "output_type": "stream",
     "text": [
      "Les formats d'images sont:\n"
     ]
    },
    {
     "data": {
      "text/plain": [
       "1\n",
       "jpg    1050\n",
       "Name: count, dtype: int64"
      ]
     },
     "execution_count": 12,
     "metadata": {},
     "output_type": "execute_result"
    }
   ],
   "source": [
    "# Check if the image column contains different image formats\n",
    "print(\"Les formats d'images sont:\")\n",
    "flipkart['image'].str.rsplit('.', expand=True)[1].value_counts()"
   ]
  },
  {
   "cell_type": "code",
   "execution_count": 13,
   "metadata": {},
   "outputs": [
    {
     "name": "stdout",
     "output_type": "stream",
     "text": [
      "La colonne product_rating est égale à la colonne overall_rating\n"
     ]
    }
   ],
   "source": [
    "# Check if the product_rating column is equal to the overall_rating column\n",
    "assert flipkart[\"product_rating\"].equals(\n",
    "    flipkart[\"overall_rating\"]\n",
    "), \"les colonnes product_rating et overall_rating ne correspondent pas\"\n",
    "print(\"La colonne product_rating est égale à la colonne overall_rating\")\n"
   ]
  },
  {
   "cell_type": "markdown",
   "metadata": {},
   "source": [
    "# Extraction des catégories de produits"
   ]
  },
  {
   "cell_type": "markdown",
   "metadata": {},
   "source": [
    "**Nous allons extraire les catégories de produits pour pouvoir les utiliser dans la classification des produits.**<br>\n",
    "Chaque catégorie est séparée par un '>>' et nous allons les séparer et les stocker dans une colonne 'category_1', 'category_2', 'category_3' etc...<br>\n",
    "La colonne 'category_1' contient la catégorie principale, 'category_2' la sous-catégorie et 'category_3' la sous-sous-catégorie, etc..."
   ]
  },
  {
   "cell_type": "code",
   "execution_count": 14,
   "metadata": {},
   "outputs": [],
   "source": [
    "# Extract the categories from the product_category_tree column into separate columns\n",
    "categories = (\n",
    "    flipkart[\"product_category_tree\"].str.strip('[\"|\"]')\n",
    "    .str.split(\">>\", expand=True)\n",
    "    .rename(columns={i: f'category_{i}' for i in range(0, 7)})\n",
    "    )\n",
    "\n",
    "# Concatenate the flipkart and categories dataframes and drop the product_category_tree column\n",
    "flipkart_with_cat = (\n",
    "    pd.concat([flipkart, categories], axis=1)\n",
    "    .drop(\"product_category_tree\", axis=1)\n",
    ")"
   ]
  },
  {
   "cell_type": "markdown",
   "metadata": {},
   "source": [
    "# Sélection des colonnes utiles"
   ]
  },
  {
   "cell_type": "markdown",
   "metadata": {},
   "source": [
    "**Pour la suite de l'analyse, on va sélectionner les colonnes utiles pour la classification des produits.**<br>\n",
    "On travaillera sur les colonnes 'product_name', 'description' et 'product_specifications' pour les données textes et sur les colonnes 'image' pour les données images.<br>\n",
    "Concernant la colonne 'product_specifications', il est encore difficile de savoir si l'on va l'utiliser pour la classification des produits. Nous allons donc la conserver pour le moment."
   ]
  },
  {
   "cell_type": "code",
   "execution_count": 15,
   "metadata": {},
   "outputs": [],
   "source": [
    "fields = [\n",
    "    \"uniq_id\",\n",
    "    \"product_name\",\n",
    "    \"category_0\",\n",
    "    \"category_1\",\n",
    "    \"category_2\",\n",
    "    \"category_3\",\n",
    "    \"category_4\",\n",
    "    \"category_5\",\n",
    "    \"category_6\",\n",
    "    \"retail_price\",\n",
    "    \"discounted_price\",\n",
    "    \"description\",\n",
    "    \"product_rating\",\n",
    "    \"product_specifications\"\n",
    "]"
   ]
  },
  {
   "cell_type": "markdown",
   "metadata": {},
   "source": [
    "J'appellerai le nouveau dataframe `flipkart_filtered` qui contiendra les colonnes utiles pour la classification des produits.\t"
   ]
  },
  {
   "cell_type": "code",
   "execution_count": 16,
   "metadata": {},
   "outputs": [],
   "source": [
    "# Create a new DataFrame with the selected fields\n",
    "flipkart_filtered = flipkart_with_cat[fields].copy()"
   ]
  },
  {
   "cell_type": "markdown",
   "metadata": {},
   "source": [
    "# Remplacement des ratings nuls"
   ]
  },
  {
   "cell_type": "code",
   "execution_count": 17,
   "metadata": {},
   "outputs": [],
   "source": [
    "# Replace the text \"No rating available\" by 0 in the product_rating column and convert it to float\n",
    "flipkart_filtered = flipkart_filtered.assign(**{'product_rating': lambda x: x['product_rating'].replace('No rating available', np.nan).astype(float)})"
   ]
  },
  {
   "cell_type": "markdown",
   "metadata": {},
   "source": [
    "# Identification des erreurs d'encodage dans les colonnes textes"
   ]
  },
  {
   "cell_type": "markdown",
   "metadata": {},
   "source": [
    "J'ai identifié un problème d'encodage dans les colonnes textuelles avec le caractère �.<br>\n",
    "Regardons les colonnes textuelles pour vérifier la présence de ce caractère."
   ]
  },
  {
   "cell_type": "code",
   "execution_count": 18,
   "metadata": {},
   "outputs": [
    {
     "data": {
      "text/plain": [
       "uniq_id                    0.0\n",
       "product_name               3.0\n",
       "category_0                 0.0\n",
       "category_1                 0.0\n",
       "category_2                 0.0\n",
       "category_3                 0.0\n",
       "category_4                 1.0\n",
       "category_5                 0.0\n",
       "category_6                 0.0\n",
       "description               11.0\n",
       "product_specifications     4.0\n",
       "dtype: float64"
      ]
     },
     "execution_count": 18,
     "metadata": {},
     "output_type": "execute_result"
    }
   ],
   "source": [
    "# Define the problematic pattern\n",
    "pattern = \"�\"\n",
    "\n",
    "# Check if the flipkart_filtered DataFrame contains the character �\n",
    "flipkart_filtered.select_dtypes(include='object').apply(lambda x: x.str.count(pattern).sum())"
   ]
  },
  {
   "cell_type": "code",
   "execution_count": 19,
   "metadata": {},
   "outputs": [
    {
     "name": "stdout",
     "output_type": "stream",
     "text": [
      "[('uniq_id', []), ('product_name', ['Repouss______', '___']), ('category_0', []), ('category_1', []), ('category_2', []), ('category_3', []), ('category_4', ['___']), ('category_5', []), ('category_6', []), ('description', ['Repouss______', 'Repouss______', '___To', '___', '___To', '___', '___', 'd___cor', 'd___cor']), ('product_specifications', ['Repouss______', 'Repouss______'])]\n",
      "[('uniq_id', []), ('product_name', [' ___ ']), ('category_0', []), ('category_1', []), ('category_2', []), ('category_3', []), ('category_4', [' ___ ']), ('category_5', []), ('category_6', []), ('description', ['.___\\r\\n', '.___', ' ___ ']), ('product_specifications', [])]\n"
     ]
    }
   ],
   "source": [
    "# Create a new list\n",
    "words = []\n",
    "non_words = []\n",
    "\n",
    "# Create a pattern to match words containing the character � with a pattern like \"___\" which doesn't exist in the text\n",
    "word_pattern = r\"\\b\\w*___\\w*\\b\"\n",
    "nonword_pattern = r\"\\b\\W*___\\W*\\b\"\n",
    "\n",
    "# Add each word with word_pattern to the words list and each word with nonword_pattern to the non_words list\n",
    "for column in flipkart_filtered.select_dtypes(include='object').replace('�', '___'):\n",
    "    words.append((column, flipkart_filtered[column].dropna().str.replace('�', '___').str.findall(word_pattern).sum()))\n",
    "    non_words.append((column, flipkart_filtered[column].dropna().str.replace('�', '___').str.findall(nonword_pattern).sum()))\n",
    "\n",
    "# Print the words and non_words lists\n",
    "print(words)\n",
    "print(non_words)"
   ]
  },
  {
   "cell_type": "markdown",
   "metadata": {},
   "source": [
    "Après inspection des passages concernée, je peux remplacer les passages spécifiques avec \"Repouss��\" et \"d�cor\" par \"Repousse\" et \"decor\" respectivement.<br>\n",
    "Pour le reste, je vais supprimer les occurences de ce caractère."
   ]
  },
  {
   "cell_type": "code",
   "execution_count": 20,
   "metadata": {},
   "outputs": [],
   "source": [
    "# Define the pattern to match\n",
    "pattern_1 = \"Repouss��\"\n",
    "pattern_2 = \"d�cor\"\n",
    "\n",
    "# Replace the pattern_1 by \"Repoussé\" and the pattern_2 by \"décor\" in the product_specifications column\n",
    "for column in flipkart_filtered.select_dtypes(include='object'):\n",
    "    flipkart_filtered[column] = flipkart_filtered[column].str.replace(pattern_1, \"Repoussé\").str.replace(pattern_2, \"décor\").str.replace(pattern, '')\n",
    "\n",
    "# Check if the flipkart_filtered DataFrame contains the character �\n",
    "assert flipkart_filtered.select_dtypes(include='object').apply(lambda x: x.str.count(pattern).sum()).sum() == 0.0, \"Il reste encore des caractères � dans le DataFrame\""
   ]
  },
  {
   "cell_type": "markdown",
   "metadata": {},
   "source": [
    "# EDA sur les colonnes\n"
   ]
  },
  {
   "cell_type": "code",
   "execution_count": 21,
   "metadata": {},
   "outputs": [
    {
     "data": {
      "text/html": [
       "<div>\n",
       "<style scoped>\n",
       "    .dataframe tbody tr th:only-of-type {\n",
       "        vertical-align: middle;\n",
       "    }\n",
       "\n",
       "    .dataframe tbody tr th {\n",
       "        vertical-align: top;\n",
       "    }\n",
       "\n",
       "    .dataframe thead th {\n",
       "        text-align: right;\n",
       "    }\n",
       "</style>\n",
       "<table border=\"1\" class=\"dataframe\">\n",
       "  <thead>\n",
       "    <tr style=\"text-align: right;\">\n",
       "      <th></th>\n",
       "      <th>uniq_id</th>\n",
       "      <th>product_name</th>\n",
       "      <th>category_0</th>\n",
       "      <th>category_1</th>\n",
       "      <th>category_2</th>\n",
       "      <th>category_3</th>\n",
       "      <th>category_4</th>\n",
       "      <th>category_5</th>\n",
       "      <th>category_6</th>\n",
       "      <th>retail_price</th>\n",
       "      <th>discounted_price</th>\n",
       "      <th>description</th>\n",
       "      <th>product_rating</th>\n",
       "      <th>product_specifications</th>\n",
       "    </tr>\n",
       "  </thead>\n",
       "  <tbody>\n",
       "    <tr>\n",
       "      <th>0</th>\n",
       "      <td>55b85ea15a1536d46b7190ad6fff8ce7</td>\n",
       "      <td>Elegance Polyester Multicolor Abstract Eyelet ...</td>\n",
       "      <td>Home Furnishing</td>\n",
       "      <td>Curtains &amp; Accessories</td>\n",
       "      <td>Curtains</td>\n",
       "      <td>Elegance Polyester Multicolor Abstract Eyelet...</td>\n",
       "      <td>None</td>\n",
       "      <td>None</td>\n",
       "      <td>None</td>\n",
       "      <td>1899.0</td>\n",
       "      <td>899.0</td>\n",
       "      <td>Key Features of Elegance Polyester Multicolor ...</td>\n",
       "      <td>NaN</td>\n",
       "      <td>{\"product_specification\"=&gt;[{\"key\"=&gt;\"Brand\", \"v...</td>\n",
       "    </tr>\n",
       "    <tr>\n",
       "      <th>1</th>\n",
       "      <td>7b72c92c2f6c40268628ec5f14c6d590</td>\n",
       "      <td>Sathiyas Cotton Bath Towel</td>\n",
       "      <td>Baby Care</td>\n",
       "      <td>Baby Bath &amp; Skin</td>\n",
       "      <td>Baby Bath Towels</td>\n",
       "      <td>Sathiyas Baby Bath Towels</td>\n",
       "      <td>Sathiyas Cotton Bath Towel (3 Bath Towel, Red...</td>\n",
       "      <td>None</td>\n",
       "      <td>None</td>\n",
       "      <td>600.0</td>\n",
       "      <td>449.0</td>\n",
       "      <td>Specifications of Sathiyas Cotton Bath Towel (...</td>\n",
       "      <td>NaN</td>\n",
       "      <td>{\"product_specification\"=&gt;[{\"key\"=&gt;\"Machine Wa...</td>\n",
       "    </tr>\n",
       "    <tr>\n",
       "      <th>2</th>\n",
       "      <td>64d5d4a258243731dc7bbb1eef49ad74</td>\n",
       "      <td>Eurospa Cotton Terry Face Towel Set</td>\n",
       "      <td>Baby Care</td>\n",
       "      <td>Baby Bath &amp; Skin</td>\n",
       "      <td>Baby Bath Towels</td>\n",
       "      <td>Eurospa Baby Bath Towels</td>\n",
       "      <td>Eurospa Cotton Terry Face Towel Set (20 PIECE...</td>\n",
       "      <td>None</td>\n",
       "      <td>None</td>\n",
       "      <td>NaN</td>\n",
       "      <td>NaN</td>\n",
       "      <td>Key Features of Eurospa Cotton Terry Face Towe...</td>\n",
       "      <td>NaN</td>\n",
       "      <td>{\"product_specification\"=&gt;[{\"key\"=&gt;\"Material\",...</td>\n",
       "    </tr>\n",
       "    <tr>\n",
       "      <th>3</th>\n",
       "      <td>d4684dcdc759dd9cdf41504698d737d8</td>\n",
       "      <td>SANTOSH ROYAL FASHION Cotton Printed King size...</td>\n",
       "      <td>Home Furnishing</td>\n",
       "      <td>Bed Linen</td>\n",
       "      <td>Bedsheets</td>\n",
       "      <td>SANTOSH ROYAL FASHION Bedsheets</td>\n",
       "      <td>SANTOSH ROYAL FASHION Cotton Printed King siz...</td>\n",
       "      <td>None</td>\n",
       "      <td>None</td>\n",
       "      <td>2699.0</td>\n",
       "      <td>1299.0</td>\n",
       "      <td>Key Features of SANTOSH ROYAL FASHION Cotton P...</td>\n",
       "      <td>NaN</td>\n",
       "      <td>{\"product_specification\"=&gt;[{\"key\"=&gt;\"Brand\", \"v...</td>\n",
       "    </tr>\n",
       "    <tr>\n",
       "      <th>4</th>\n",
       "      <td>6325b6870c54cd47be6ebfbffa620ec7</td>\n",
       "      <td>Jaipur Print Cotton Floral King sized Double B...</td>\n",
       "      <td>Home Furnishing</td>\n",
       "      <td>Bed Linen</td>\n",
       "      <td>Bedsheets</td>\n",
       "      <td>Jaipur Print Bedsheets</td>\n",
       "      <td>Jaipur Print Cotton Floral King sized Double ...</td>\n",
       "      <td>None</td>\n",
       "      <td>None</td>\n",
       "      <td>2599.0</td>\n",
       "      <td>698.0</td>\n",
       "      <td>Key Features of Jaipur Print Cotton Floral Kin...</td>\n",
       "      <td>NaN</td>\n",
       "      <td>{\"product_specification\"=&gt;[{\"key\"=&gt;\"Machine Wa...</td>\n",
       "    </tr>\n",
       "    <tr>\n",
       "      <th>...</th>\n",
       "      <td>...</td>\n",
       "      <td>...</td>\n",
       "      <td>...</td>\n",
       "      <td>...</td>\n",
       "      <td>...</td>\n",
       "      <td>...</td>\n",
       "      <td>...</td>\n",
       "      <td>...</td>\n",
       "      <td>...</td>\n",
       "      <td>...</td>\n",
       "      <td>...</td>\n",
       "      <td>...</td>\n",
       "      <td>...</td>\n",
       "      <td>...</td>\n",
       "    </tr>\n",
       "    <tr>\n",
       "      <th>1045</th>\n",
       "      <td>958f54f4c46b53c8a0a9b8167d9140bc</td>\n",
       "      <td>Oren Empower Extra Large Self Adhesive Sticker</td>\n",
       "      <td>Baby Care</td>\n",
       "      <td>Baby &amp; Kids Gifts</td>\n",
       "      <td>Stickers</td>\n",
       "      <td>Oren Empower Stickers</td>\n",
       "      <td>None</td>\n",
       "      <td>None</td>\n",
       "      <td>None</td>\n",
       "      <td>1399.0</td>\n",
       "      <td>999.0</td>\n",
       "      <td>Oren Empower Extra Large Self Adhesive Sticker...</td>\n",
       "      <td>NaN</td>\n",
       "      <td>{\"product_specification\"=&gt;[{\"key\"=&gt;\"Number of ...</td>\n",
       "    </tr>\n",
       "    <tr>\n",
       "      <th>1046</th>\n",
       "      <td>fd6cbcc22efb6b761bd564c28928483c</td>\n",
       "      <td>Wallmantra Large Vinyl Sticker Sticker</td>\n",
       "      <td>Baby Care</td>\n",
       "      <td>Baby &amp; Kids Gifts</td>\n",
       "      <td>Stickers</td>\n",
       "      <td>Wallmantra Stickers</td>\n",
       "      <td>None</td>\n",
       "      <td>None</td>\n",
       "      <td>None</td>\n",
       "      <td>4930.0</td>\n",
       "      <td>1896.0</td>\n",
       "      <td>Wallmantra Large Vinyl Sticker Sticker (Pack o...</td>\n",
       "      <td>NaN</td>\n",
       "      <td>{\"product_specification\"=&gt;[{\"key\"=&gt;\"Number of ...</td>\n",
       "    </tr>\n",
       "    <tr>\n",
       "      <th>1047</th>\n",
       "      <td>5912e037d12774bb73a2048f35a00009</td>\n",
       "      <td>Uberlyfe Extra Large Pigmented Polyvinyl Films...</td>\n",
       "      <td>Baby Care</td>\n",
       "      <td>Baby &amp; Kids Gifts</td>\n",
       "      <td>Stickers</td>\n",
       "      <td>Uberlyfe Stickers</td>\n",
       "      <td>None</td>\n",
       "      <td>None</td>\n",
       "      <td>None</td>\n",
       "      <td>4500.0</td>\n",
       "      <td>1449.0</td>\n",
       "      <td>Buy Uberlyfe Extra Large Pigmented Polyvinyl F...</td>\n",
       "      <td>NaN</td>\n",
       "      <td>{\"product_specification\"=&gt;[{\"key\"=&gt;\"Number of ...</td>\n",
       "    </tr>\n",
       "    <tr>\n",
       "      <th>1048</th>\n",
       "      <td>c3edc504d1b4f0ba6224fa53a43a7ad6</td>\n",
       "      <td>Wallmantra Medium Vinyl Sticker Sticker</td>\n",
       "      <td>Baby Care</td>\n",
       "      <td>Baby &amp; Kids Gifts</td>\n",
       "      <td>Stickers</td>\n",
       "      <td>Wallmantra Stickers</td>\n",
       "      <td>None</td>\n",
       "      <td>None</td>\n",
       "      <td>None</td>\n",
       "      <td>3465.0</td>\n",
       "      <td>1333.0</td>\n",
       "      <td>Buy Wallmantra Medium Vinyl Sticker Sticker fo...</td>\n",
       "      <td>NaN</td>\n",
       "      <td>{\"product_specification\"=&gt;[{\"key\"=&gt;\"Number of ...</td>\n",
       "    </tr>\n",
       "    <tr>\n",
       "      <th>1049</th>\n",
       "      <td>f2f027ad6a6df617c9f125173da71e44</td>\n",
       "      <td>Uberlyfe Large Vinyl Sticker</td>\n",
       "      <td>Baby Care</td>\n",
       "      <td>Baby &amp; Kids Gifts</td>\n",
       "      <td>Stickers</td>\n",
       "      <td>Uberlyfe Stickers</td>\n",
       "      <td>None</td>\n",
       "      <td>None</td>\n",
       "      <td>None</td>\n",
       "      <td>1190.0</td>\n",
       "      <td>595.0</td>\n",
       "      <td>Buy Uberlyfe Large Vinyl Sticker for Rs.595 on...</td>\n",
       "      <td>4.0</td>\n",
       "      <td>{\"product_specification\"=&gt;[{\"key\"=&gt;\"Sales Pack...</td>\n",
       "    </tr>\n",
       "  </tbody>\n",
       "</table>\n",
       "<p>1050 rows × 14 columns</p>\n",
       "</div>"
      ],
      "text/plain": [
       "                               uniq_id  \\\n",
       "0     55b85ea15a1536d46b7190ad6fff8ce7   \n",
       "1     7b72c92c2f6c40268628ec5f14c6d590   \n",
       "2     64d5d4a258243731dc7bbb1eef49ad74   \n",
       "3     d4684dcdc759dd9cdf41504698d737d8   \n",
       "4     6325b6870c54cd47be6ebfbffa620ec7   \n",
       "...                                ...   \n",
       "1045  958f54f4c46b53c8a0a9b8167d9140bc   \n",
       "1046  fd6cbcc22efb6b761bd564c28928483c   \n",
       "1047  5912e037d12774bb73a2048f35a00009   \n",
       "1048  c3edc504d1b4f0ba6224fa53a43a7ad6   \n",
       "1049  f2f027ad6a6df617c9f125173da71e44   \n",
       "\n",
       "                                           product_name        category_0  \\\n",
       "0     Elegance Polyester Multicolor Abstract Eyelet ...  Home Furnishing    \n",
       "1                            Sathiyas Cotton Bath Towel        Baby Care    \n",
       "2                   Eurospa Cotton Terry Face Towel Set        Baby Care    \n",
       "3     SANTOSH ROYAL FASHION Cotton Printed King size...  Home Furnishing    \n",
       "4     Jaipur Print Cotton Floral King sized Double B...  Home Furnishing    \n",
       "...                                                 ...               ...   \n",
       "1045     Oren Empower Extra Large Self Adhesive Sticker        Baby Care    \n",
       "1046             Wallmantra Large Vinyl Sticker Sticker        Baby Care    \n",
       "1047  Uberlyfe Extra Large Pigmented Polyvinyl Films...        Baby Care    \n",
       "1048            Wallmantra Medium Vinyl Sticker Sticker        Baby Care    \n",
       "1049                       Uberlyfe Large Vinyl Sticker        Baby Care    \n",
       "\n",
       "                    category_1          category_2  \\\n",
       "0      Curtains & Accessories            Curtains    \n",
       "1            Baby Bath & Skin    Baby Bath Towels    \n",
       "2            Baby Bath & Skin    Baby Bath Towels    \n",
       "3                   Bed Linen           Bedsheets    \n",
       "4                   Bed Linen           Bedsheets    \n",
       "...                        ...                 ...   \n",
       "1045        Baby & Kids Gifts            Stickers    \n",
       "1046        Baby & Kids Gifts            Stickers    \n",
       "1047        Baby & Kids Gifts            Stickers    \n",
       "1048        Baby & Kids Gifts            Stickers    \n",
       "1049        Baby & Kids Gifts            Stickers    \n",
       "\n",
       "                                             category_3  \\\n",
       "0      Elegance Polyester Multicolor Abstract Eyelet...   \n",
       "1                            Sathiyas Baby Bath Towels    \n",
       "2                             Eurospa Baby Bath Towels    \n",
       "3                      SANTOSH ROYAL FASHION Bedsheets    \n",
       "4                               Jaipur Print Bedsheets    \n",
       "...                                                 ...   \n",
       "1045                              Oren Empower Stickers   \n",
       "1046                                Wallmantra Stickers   \n",
       "1047                                  Uberlyfe Stickers   \n",
       "1048                                Wallmantra Stickers   \n",
       "1049                                  Uberlyfe Stickers   \n",
       "\n",
       "                                             category_4 category_5 category_6  \\\n",
       "0                                                  None       None       None   \n",
       "1      Sathiyas Cotton Bath Towel (3 Bath Towel, Red...       None       None   \n",
       "2      Eurospa Cotton Terry Face Towel Set (20 PIECE...       None       None   \n",
       "3      SANTOSH ROYAL FASHION Cotton Printed King siz...       None       None   \n",
       "4      Jaipur Print Cotton Floral King sized Double ...       None       None   \n",
       "...                                                 ...        ...        ...   \n",
       "1045                                               None       None       None   \n",
       "1046                                               None       None       None   \n",
       "1047                                               None       None       None   \n",
       "1048                                               None       None       None   \n",
       "1049                                               None       None       None   \n",
       "\n",
       "      retail_price  discounted_price  \\\n",
       "0           1899.0             899.0   \n",
       "1            600.0             449.0   \n",
       "2              NaN               NaN   \n",
       "3           2699.0            1299.0   \n",
       "4           2599.0             698.0   \n",
       "...            ...               ...   \n",
       "1045        1399.0             999.0   \n",
       "1046        4930.0            1896.0   \n",
       "1047        4500.0            1449.0   \n",
       "1048        3465.0            1333.0   \n",
       "1049        1190.0             595.0   \n",
       "\n",
       "                                            description  product_rating  \\\n",
       "0     Key Features of Elegance Polyester Multicolor ...             NaN   \n",
       "1     Specifications of Sathiyas Cotton Bath Towel (...             NaN   \n",
       "2     Key Features of Eurospa Cotton Terry Face Towe...             NaN   \n",
       "3     Key Features of SANTOSH ROYAL FASHION Cotton P...             NaN   \n",
       "4     Key Features of Jaipur Print Cotton Floral Kin...             NaN   \n",
       "...                                                 ...             ...   \n",
       "1045  Oren Empower Extra Large Self Adhesive Sticker...             NaN   \n",
       "1046  Wallmantra Large Vinyl Sticker Sticker (Pack o...             NaN   \n",
       "1047  Buy Uberlyfe Extra Large Pigmented Polyvinyl F...             NaN   \n",
       "1048  Buy Wallmantra Medium Vinyl Sticker Sticker fo...             NaN   \n",
       "1049  Buy Uberlyfe Large Vinyl Sticker for Rs.595 on...             4.0   \n",
       "\n",
       "                                 product_specifications  \n",
       "0     {\"product_specification\"=>[{\"key\"=>\"Brand\", \"v...  \n",
       "1     {\"product_specification\"=>[{\"key\"=>\"Machine Wa...  \n",
       "2     {\"product_specification\"=>[{\"key\"=>\"Material\",...  \n",
       "3     {\"product_specification\"=>[{\"key\"=>\"Brand\", \"v...  \n",
       "4     {\"product_specification\"=>[{\"key\"=>\"Machine Wa...  \n",
       "...                                                 ...  \n",
       "1045  {\"product_specification\"=>[{\"key\"=>\"Number of ...  \n",
       "1046  {\"product_specification\"=>[{\"key\"=>\"Number of ...  \n",
       "1047  {\"product_specification\"=>[{\"key\"=>\"Number of ...  \n",
       "1048  {\"product_specification\"=>[{\"key\"=>\"Number of ...  \n",
       "1049  {\"product_specification\"=>[{\"key\"=>\"Sales Pack...  \n",
       "\n",
       "[1050 rows x 14 columns]"
      ]
     },
     "execution_count": 21,
     "metadata": {},
     "output_type": "execute_result"
    }
   ],
   "source": [
    "flipkart_filtered"
   ]
  },
  {
   "cell_type": "code",
   "execution_count": 22,
   "metadata": {},
   "outputs": [
    {
     "name": "stdout",
     "output_type": "stream",
     "text": [
      "Number of categories in category_1:\n",
      "63\n",
      "Number of categories in category_2:\n",
      "246\n",
      "Number of categories in category_3:\n",
      "350\n",
      "Number of categories in category_4:\n",
      "297\n",
      "Number of categories in category_5:\n",
      "117\n",
      "Number of categories in category_6:\n",
      "57\n"
     ]
    }
   ],
   "source": [
    "for i in range(1, 7):\n",
    "    print(\"Number of categories in category_{}:\".format(i))\n",
    "    print(flipkart_filtered[f'category_{i}'].nunique())"
   ]
  },
  {
   "cell_type": "code",
   "execution_count": 23,
   "metadata": {},
   "outputs": [],
   "source": [
    "# Concatenante the product_name and description columns\n",
    "flipkart_filtered[\"text\"] = flipkart_filtered[\"product_name\"] + \" \" + flipkart_filtered[\"description\"]"
   ]
  },
  {
   "cell_type": "markdown",
   "metadata": {},
   "source": [
    "# CV - TF-IDF sur les colonnes textes"
   ]
  },
  {
   "cell_type": "code",
   "execution_count": 24,
   "metadata": {},
   "outputs": [],
   "source": [
    "# Préparation des données textes pour encode avec CountVectorizer\n",
    "from sklearn.feature_extraction.text import TfidfVectorizer\n",
    "# Création d'une instance de TfIdfVectorizer\n",
    "vectorizer = TfidfVectorizer()"
   ]
  },
  {
   "cell_type": "code",
   "execution_count": 25,
   "metadata": {},
   "outputs": [],
   "source": [
    "# Encodage des données textes\n",
    "X = vectorizer.fit_transform(flipkart_filtered[\"text\"])"
   ]
  },
  {
   "cell_type": "code",
   "execution_count": 26,
   "metadata": {},
   "outputs": [],
   "source": [
    "# Récupération du nom des features\n",
    "feature_names = vectorizer.get_feature_names_out()\n",
    "\n",
    "# Création d'un DataFrame avec les données encodées\n",
    "text_encoded = pd.DataFrame(X.toarray(), columns=feature_names)"
   ]
  },
  {
   "cell_type": "code",
   "execution_count": 27,
   "metadata": {},
   "outputs": [
    {
     "data": {
      "text/html": [
       "<div>\n",
       "<style scoped>\n",
       "    .dataframe tbody tr th:only-of-type {\n",
       "        vertical-align: middle;\n",
       "    }\n",
       "\n",
       "    .dataframe tbody tr th {\n",
       "        vertical-align: top;\n",
       "    }\n",
       "\n",
       "    .dataframe thead th {\n",
       "        text-align: right;\n",
       "    }\n",
       "</style>\n",
       "<table border=\"1\" class=\"dataframe\">\n",
       "  <thead>\n",
       "    <tr style=\"text-align: right;\">\n",
       "      <th></th>\n",
       "      <th>00</th>\n",
       "      <th>000</th>\n",
       "      <th>001</th>\n",
       "      <th>0021</th>\n",
       "      <th>004</th>\n",
       "      <th>005</th>\n",
       "      <th>006</th>\n",
       "      <th>0083</th>\n",
       "      <th>01</th>\n",
       "      <th>011</th>\n",
       "      <th>...</th>\n",
       "      <th>zinc</th>\n",
       "      <th>zingalalaa</th>\n",
       "      <th>zip</th>\n",
       "      <th>zipexterior</th>\n",
       "      <th>zipper</th>\n",
       "      <th>zippered</th>\n",
       "      <th>zone</th>\n",
       "      <th>zoom</th>\n",
       "      <th>zora</th>\n",
       "      <th>zyxel</th>\n",
       "    </tr>\n",
       "  </thead>\n",
       "  <tbody>\n",
       "    <tr>\n",
       "      <th>0</th>\n",
       "      <td>0.0</td>\n",
       "      <td>0.0</td>\n",
       "      <td>0.0</td>\n",
       "      <td>0.0</td>\n",
       "      <td>0.0</td>\n",
       "      <td>0.0</td>\n",
       "      <td>0.0</td>\n",
       "      <td>0.0</td>\n",
       "      <td>0.0</td>\n",
       "      <td>0.0</td>\n",
       "      <td>...</td>\n",
       "      <td>0.0</td>\n",
       "      <td>0.0</td>\n",
       "      <td>0.0</td>\n",
       "      <td>0.0</td>\n",
       "      <td>0.0</td>\n",
       "      <td>0.0</td>\n",
       "      <td>0.0</td>\n",
       "      <td>0.0</td>\n",
       "      <td>0.0</td>\n",
       "      <td>0.0</td>\n",
       "    </tr>\n",
       "    <tr>\n",
       "      <th>1</th>\n",
       "      <td>0.0</td>\n",
       "      <td>0.0</td>\n",
       "      <td>0.0</td>\n",
       "      <td>0.0</td>\n",
       "      <td>0.0</td>\n",
       "      <td>0.0</td>\n",
       "      <td>0.0</td>\n",
       "      <td>0.0</td>\n",
       "      <td>0.0</td>\n",
       "      <td>0.0</td>\n",
       "      <td>...</td>\n",
       "      <td>0.0</td>\n",
       "      <td>0.0</td>\n",
       "      <td>0.0</td>\n",
       "      <td>0.0</td>\n",
       "      <td>0.0</td>\n",
       "      <td>0.0</td>\n",
       "      <td>0.0</td>\n",
       "      <td>0.0</td>\n",
       "      <td>0.0</td>\n",
       "      <td>0.0</td>\n",
       "    </tr>\n",
       "    <tr>\n",
       "      <th>2</th>\n",
       "      <td>0.0</td>\n",
       "      <td>0.0</td>\n",
       "      <td>0.0</td>\n",
       "      <td>0.0</td>\n",
       "      <td>0.0</td>\n",
       "      <td>0.0</td>\n",
       "      <td>0.0</td>\n",
       "      <td>0.0</td>\n",
       "      <td>0.0</td>\n",
       "      <td>0.0</td>\n",
       "      <td>...</td>\n",
       "      <td>0.0</td>\n",
       "      <td>0.0</td>\n",
       "      <td>0.0</td>\n",
       "      <td>0.0</td>\n",
       "      <td>0.0</td>\n",
       "      <td>0.0</td>\n",
       "      <td>0.0</td>\n",
       "      <td>0.0</td>\n",
       "      <td>0.0</td>\n",
       "      <td>0.0</td>\n",
       "    </tr>\n",
       "    <tr>\n",
       "      <th>3</th>\n",
       "      <td>0.0</td>\n",
       "      <td>0.0</td>\n",
       "      <td>0.0</td>\n",
       "      <td>0.0</td>\n",
       "      <td>0.0</td>\n",
       "      <td>0.0</td>\n",
       "      <td>0.0</td>\n",
       "      <td>0.0</td>\n",
       "      <td>0.0</td>\n",
       "      <td>0.0</td>\n",
       "      <td>...</td>\n",
       "      <td>0.0</td>\n",
       "      <td>0.0</td>\n",
       "      <td>0.0</td>\n",
       "      <td>0.0</td>\n",
       "      <td>0.0</td>\n",
       "      <td>0.0</td>\n",
       "      <td>0.0</td>\n",
       "      <td>0.0</td>\n",
       "      <td>0.0</td>\n",
       "      <td>0.0</td>\n",
       "    </tr>\n",
       "    <tr>\n",
       "      <th>4</th>\n",
       "      <td>0.0</td>\n",
       "      <td>0.0</td>\n",
       "      <td>0.0</td>\n",
       "      <td>0.0</td>\n",
       "      <td>0.0</td>\n",
       "      <td>0.0</td>\n",
       "      <td>0.0</td>\n",
       "      <td>0.0</td>\n",
       "      <td>0.0</td>\n",
       "      <td>0.0</td>\n",
       "      <td>...</td>\n",
       "      <td>0.0</td>\n",
       "      <td>0.0</td>\n",
       "      <td>0.0</td>\n",
       "      <td>0.0</td>\n",
       "      <td>0.0</td>\n",
       "      <td>0.0</td>\n",
       "      <td>0.0</td>\n",
       "      <td>0.0</td>\n",
       "      <td>0.0</td>\n",
       "      <td>0.0</td>\n",
       "    </tr>\n",
       "    <tr>\n",
       "      <th>...</th>\n",
       "      <td>...</td>\n",
       "      <td>...</td>\n",
       "      <td>...</td>\n",
       "      <td>...</td>\n",
       "      <td>...</td>\n",
       "      <td>...</td>\n",
       "      <td>...</td>\n",
       "      <td>...</td>\n",
       "      <td>...</td>\n",
       "      <td>...</td>\n",
       "      <td>...</td>\n",
       "      <td>...</td>\n",
       "      <td>...</td>\n",
       "      <td>...</td>\n",
       "      <td>...</td>\n",
       "      <td>...</td>\n",
       "      <td>...</td>\n",
       "      <td>...</td>\n",
       "      <td>...</td>\n",
       "      <td>...</td>\n",
       "      <td>...</td>\n",
       "    </tr>\n",
       "    <tr>\n",
       "      <th>1045</th>\n",
       "      <td>0.0</td>\n",
       "      <td>0.0</td>\n",
       "      <td>0.0</td>\n",
       "      <td>0.0</td>\n",
       "      <td>0.0</td>\n",
       "      <td>0.0</td>\n",
       "      <td>0.0</td>\n",
       "      <td>0.0</td>\n",
       "      <td>0.0</td>\n",
       "      <td>0.0</td>\n",
       "      <td>...</td>\n",
       "      <td>0.0</td>\n",
       "      <td>0.0</td>\n",
       "      <td>0.0</td>\n",
       "      <td>0.0</td>\n",
       "      <td>0.0</td>\n",
       "      <td>0.0</td>\n",
       "      <td>0.0</td>\n",
       "      <td>0.0</td>\n",
       "      <td>0.0</td>\n",
       "      <td>0.0</td>\n",
       "    </tr>\n",
       "    <tr>\n",
       "      <th>1046</th>\n",
       "      <td>0.0</td>\n",
       "      <td>0.0</td>\n",
       "      <td>0.0</td>\n",
       "      <td>0.0</td>\n",
       "      <td>0.0</td>\n",
       "      <td>0.0</td>\n",
       "      <td>0.0</td>\n",
       "      <td>0.0</td>\n",
       "      <td>0.0</td>\n",
       "      <td>0.0</td>\n",
       "      <td>...</td>\n",
       "      <td>0.0</td>\n",
       "      <td>0.0</td>\n",
       "      <td>0.0</td>\n",
       "      <td>0.0</td>\n",
       "      <td>0.0</td>\n",
       "      <td>0.0</td>\n",
       "      <td>0.0</td>\n",
       "      <td>0.0</td>\n",
       "      <td>0.0</td>\n",
       "      <td>0.0</td>\n",
       "    </tr>\n",
       "    <tr>\n",
       "      <th>1047</th>\n",
       "      <td>0.0</td>\n",
       "      <td>0.0</td>\n",
       "      <td>0.0</td>\n",
       "      <td>0.0</td>\n",
       "      <td>0.0</td>\n",
       "      <td>0.0</td>\n",
       "      <td>0.0</td>\n",
       "      <td>0.0</td>\n",
       "      <td>0.0</td>\n",
       "      <td>0.0</td>\n",
       "      <td>...</td>\n",
       "      <td>0.0</td>\n",
       "      <td>0.0</td>\n",
       "      <td>0.0</td>\n",
       "      <td>0.0</td>\n",
       "      <td>0.0</td>\n",
       "      <td>0.0</td>\n",
       "      <td>0.0</td>\n",
       "      <td>0.0</td>\n",
       "      <td>0.0</td>\n",
       "      <td>0.0</td>\n",
       "    </tr>\n",
       "    <tr>\n",
       "      <th>1048</th>\n",
       "      <td>0.0</td>\n",
       "      <td>0.0</td>\n",
       "      <td>0.0</td>\n",
       "      <td>0.0</td>\n",
       "      <td>0.0</td>\n",
       "      <td>0.0</td>\n",
       "      <td>0.0</td>\n",
       "      <td>0.0</td>\n",
       "      <td>0.0</td>\n",
       "      <td>0.0</td>\n",
       "      <td>...</td>\n",
       "      <td>0.0</td>\n",
       "      <td>0.0</td>\n",
       "      <td>0.0</td>\n",
       "      <td>0.0</td>\n",
       "      <td>0.0</td>\n",
       "      <td>0.0</td>\n",
       "      <td>0.0</td>\n",
       "      <td>0.0</td>\n",
       "      <td>0.0</td>\n",
       "      <td>0.0</td>\n",
       "    </tr>\n",
       "    <tr>\n",
       "      <th>1049</th>\n",
       "      <td>0.0</td>\n",
       "      <td>0.0</td>\n",
       "      <td>0.0</td>\n",
       "      <td>0.0</td>\n",
       "      <td>0.0</td>\n",
       "      <td>0.0</td>\n",
       "      <td>0.0</td>\n",
       "      <td>0.0</td>\n",
       "      <td>0.0</td>\n",
       "      <td>0.0</td>\n",
       "      <td>...</td>\n",
       "      <td>0.0</td>\n",
       "      <td>0.0</td>\n",
       "      <td>0.0</td>\n",
       "      <td>0.0</td>\n",
       "      <td>0.0</td>\n",
       "      <td>0.0</td>\n",
       "      <td>0.0</td>\n",
       "      <td>0.0</td>\n",
       "      <td>0.0</td>\n",
       "      <td>0.0</td>\n",
       "    </tr>\n",
       "  </tbody>\n",
       "</table>\n",
       "<p>1050 rows × 6052 columns</p>\n",
       "</div>"
      ],
      "text/plain": [
       "       00  000  001  0021  004  005  006  0083   01  011  ...  zinc  \\\n",
       "0     0.0  0.0  0.0   0.0  0.0  0.0  0.0   0.0  0.0  0.0  ...   0.0   \n",
       "1     0.0  0.0  0.0   0.0  0.0  0.0  0.0   0.0  0.0  0.0  ...   0.0   \n",
       "2     0.0  0.0  0.0   0.0  0.0  0.0  0.0   0.0  0.0  0.0  ...   0.0   \n",
       "3     0.0  0.0  0.0   0.0  0.0  0.0  0.0   0.0  0.0  0.0  ...   0.0   \n",
       "4     0.0  0.0  0.0   0.0  0.0  0.0  0.0   0.0  0.0  0.0  ...   0.0   \n",
       "...   ...  ...  ...   ...  ...  ...  ...   ...  ...  ...  ...   ...   \n",
       "1045  0.0  0.0  0.0   0.0  0.0  0.0  0.0   0.0  0.0  0.0  ...   0.0   \n",
       "1046  0.0  0.0  0.0   0.0  0.0  0.0  0.0   0.0  0.0  0.0  ...   0.0   \n",
       "1047  0.0  0.0  0.0   0.0  0.0  0.0  0.0   0.0  0.0  0.0  ...   0.0   \n",
       "1048  0.0  0.0  0.0   0.0  0.0  0.0  0.0   0.0  0.0  0.0  ...   0.0   \n",
       "1049  0.0  0.0  0.0   0.0  0.0  0.0  0.0   0.0  0.0  0.0  ...   0.0   \n",
       "\n",
       "      zingalalaa  zip  zipexterior  zipper  zippered  zone  zoom  zora  zyxel  \n",
       "0            0.0  0.0          0.0     0.0       0.0   0.0   0.0   0.0    0.0  \n",
       "1            0.0  0.0          0.0     0.0       0.0   0.0   0.0   0.0    0.0  \n",
       "2            0.0  0.0          0.0     0.0       0.0   0.0   0.0   0.0    0.0  \n",
       "3            0.0  0.0          0.0     0.0       0.0   0.0   0.0   0.0    0.0  \n",
       "4            0.0  0.0          0.0     0.0       0.0   0.0   0.0   0.0    0.0  \n",
       "...          ...  ...          ...     ...       ...   ...   ...   ...    ...  \n",
       "1045         0.0  0.0          0.0     0.0       0.0   0.0   0.0   0.0    0.0  \n",
       "1046         0.0  0.0          0.0     0.0       0.0   0.0   0.0   0.0    0.0  \n",
       "1047         0.0  0.0          0.0     0.0       0.0   0.0   0.0   0.0    0.0  \n",
       "1048         0.0  0.0          0.0     0.0       0.0   0.0   0.0   0.0    0.0  \n",
       "1049         0.0  0.0          0.0     0.0       0.0   0.0   0.0   0.0    0.0  \n",
       "\n",
       "[1050 rows x 6052 columns]"
      ]
     },
     "execution_count": 27,
     "metadata": {},
     "output_type": "execute_result"
    }
   ],
   "source": [
    "text_encoded"
   ]
  },
  {
   "cell_type": "code",
   "execution_count": 28,
   "metadata": {},
   "outputs": [
    {
     "data": {
      "text/plain": [
       "of             39.887814\n",
       "only           37.715187\n",
       "for            35.120723\n",
       "at             32.578276\n",
       "and            31.970817\n",
       "                 ...    \n",
       "safely          0.028043\n",
       "trip            0.028043\n",
       "portability     0.028043\n",
       "348             0.028043\n",
       "notepad         0.028043\n",
       "Length: 6052, dtype: float64"
      ]
     },
     "execution_count": 28,
     "metadata": {},
     "output_type": "execute_result"
    }
   ],
   "source": [
    "text_encoded.sum(axis=0).sort_values(ascending=False)"
   ]
  },
  {
   "cell_type": "code",
   "execution_count": 29,
   "metadata": {},
   "outputs": [],
   "source": [
    "import spacy\n"
   ]
  },
  {
   "cell_type": "code",
   "execution_count": 30,
   "metadata": {},
   "outputs": [
    {
     "name": "stderr",
     "output_type": "stream",
     "text": [
      "c:\\Users\\BS6517\\Documents_local\\projet_6\\oc_projet_6\\.venv\\Lib\\site-packages\\transformers\\utils\\generic.py:441: UserWarning: torch.utils._pytree._register_pytree_node is deprecated. Please use torch.utils._pytree.register_pytree_node instead.\n",
      "  _torch_pytree._register_pytree_node(\n",
      "c:\\Users\\BS6517\\Documents_local\\projet_6\\oc_projet_6\\.venv\\Lib\\site-packages\\transformers\\utils\\generic.py:309: UserWarning: torch.utils._pytree._register_pytree_node is deprecated. Please use torch.utils._pytree.register_pytree_node instead.\n",
      "  _torch_pytree._register_pytree_node(\n"
     ]
    }
   ],
   "source": [
    "# Load the English tokenizer\n",
    "nlp = spacy.blank(\"en\")"
   ]
  },
  {
   "cell_type": "code",
   "execution_count": 31,
   "metadata": {},
   "outputs": [
    {
     "name": "stdout",
     "output_type": "stream",
     "text": [
      "[]\n"
     ]
    }
   ],
   "source": [
    "# Print the attributes of the spacy pipeline\n",
    "print(nlp.pipe_names)"
   ]
  },
  {
   "cell_type": "code",
   "execution_count": 32,
   "metadata": {},
   "outputs": [],
   "source": [
    "# Load the English spacy Roberta model\n",
    "nlp = spacy.load(\"en_core_web_trf\")"
   ]
  },
  {
   "cell_type": "code",
   "execution_count": 33,
   "metadata": {},
   "outputs": [
    {
     "name": "stdout",
     "output_type": "stream",
     "text": [
      "['transformer', 'tagger', 'parser', 'attribute_ruler', 'lemmatizer', 'ner']\n"
     ]
    }
   ],
   "source": [
    "# Print the attributes of the spacy pipeline\n",
    "print(nlp.pipe_names)"
   ]
  },
  {
   "cell_type": "code",
   "execution_count": 34,
   "metadata": {},
   "outputs": [
    {
     "data": {
      "text/plain": [
       "['transformer', 'ner']"
      ]
     },
     "execution_count": 34,
     "metadata": {},
     "output_type": "execute_result"
    }
   ],
   "source": [
    "# Remove every attribute of the spacy pipeline except the lemmatizer\n",
    "nlp.disable_pipes(\"transformer\", \"ner\")\n"
   ]
  },
  {
   "cell_type": "code",
   "execution_count": 35,
   "metadata": {},
   "outputs": [
    {
     "data": {
      "text/plain": [
       "['tagger', 'parser', 'attribute_ruler', 'lemmatizer']"
      ]
     },
     "execution_count": 35,
     "metadata": {},
     "output_type": "execute_result"
    }
   ],
   "source": [
    "nlp.pipe_names"
   ]
  },
  {
   "cell_type": "code",
   "execution_count": 36,
   "metadata": {},
   "outputs": [],
   "source": [
    "def spacy_preprocessor(doc):\n",
    "    return \" \".join([token.text for token in nlp(doc) if not token.is_stop and token.is_alpha])"
   ]
  },
  {
   "cell_type": "code",
   "execution_count": 37,
   "metadata": {},
   "outputs": [],
   "source": [
    "def spacy_preprocessor(doc):\n",
    "    return \" \".join([token.lemma_.lower() for token in nlp(doc) if not token.is_stop and token.is_alpha])"
   ]
  },
  {
   "cell_type": "code",
   "execution_count": 38,
   "metadata": {},
   "outputs": [],
   "source": [
    "tfidf = TfidfVectorizer(preprocessor=spacy_preprocessor, min_df=5, strip_accents='unicode')"
   ]
  },
  {
   "cell_type": "code",
   "execution_count": 39,
   "metadata": {},
   "outputs": [
    {
     "name": "stdout",
     "output_type": "stream",
     "text": [
      "\u001b[1;31mInit signature:\u001b[0m\n",
      "\u001b[0mTfidfVectorizer\u001b[0m\u001b[1;33m(\u001b[0m\u001b[1;33m\n",
      "\u001b[0m    \u001b[1;33m*\u001b[0m\u001b[1;33m,\u001b[0m\u001b[1;33m\n",
      "\u001b[0m    \u001b[0minput\u001b[0m\u001b[1;33m=\u001b[0m\u001b[1;34m'content'\u001b[0m\u001b[1;33m,\u001b[0m\u001b[1;33m\n",
      "\u001b[0m    \u001b[0mencoding\u001b[0m\u001b[1;33m=\u001b[0m\u001b[1;34m'utf-8'\u001b[0m\u001b[1;33m,\u001b[0m\u001b[1;33m\n",
      "\u001b[0m    \u001b[0mdecode_error\u001b[0m\u001b[1;33m=\u001b[0m\u001b[1;34m'strict'\u001b[0m\u001b[1;33m,\u001b[0m\u001b[1;33m\n",
      "\u001b[0m    \u001b[0mstrip_accents\u001b[0m\u001b[1;33m=\u001b[0m\u001b[1;32mNone\u001b[0m\u001b[1;33m,\u001b[0m\u001b[1;33m\n",
      "\u001b[0m    \u001b[0mlowercase\u001b[0m\u001b[1;33m=\u001b[0m\u001b[1;32mTrue\u001b[0m\u001b[1;33m,\u001b[0m\u001b[1;33m\n",
      "\u001b[0m    \u001b[0mpreprocessor\u001b[0m\u001b[1;33m=\u001b[0m\u001b[1;32mNone\u001b[0m\u001b[1;33m,\u001b[0m\u001b[1;33m\n",
      "\u001b[0m    \u001b[0mtokenizer\u001b[0m\u001b[1;33m=\u001b[0m\u001b[1;32mNone\u001b[0m\u001b[1;33m,\u001b[0m\u001b[1;33m\n",
      "\u001b[0m    \u001b[0manalyzer\u001b[0m\u001b[1;33m=\u001b[0m\u001b[1;34m'word'\u001b[0m\u001b[1;33m,\u001b[0m\u001b[1;33m\n",
      "\u001b[0m    \u001b[0mstop_words\u001b[0m\u001b[1;33m=\u001b[0m\u001b[1;32mNone\u001b[0m\u001b[1;33m,\u001b[0m\u001b[1;33m\n",
      "\u001b[0m    \u001b[0mtoken_pattern\u001b[0m\u001b[1;33m=\u001b[0m\u001b[1;34m'(?u)\\\\b\\\\w\\\\w+\\\\b'\u001b[0m\u001b[1;33m,\u001b[0m\u001b[1;33m\n",
      "\u001b[0m    \u001b[0mngram_range\u001b[0m\u001b[1;33m=\u001b[0m\u001b[1;33m(\u001b[0m\u001b[1;36m1\u001b[0m\u001b[1;33m,\u001b[0m \u001b[1;36m1\u001b[0m\u001b[1;33m)\u001b[0m\u001b[1;33m,\u001b[0m\u001b[1;33m\n",
      "\u001b[0m    \u001b[0mmax_df\u001b[0m\u001b[1;33m=\u001b[0m\u001b[1;36m1.0\u001b[0m\u001b[1;33m,\u001b[0m\u001b[1;33m\n",
      "\u001b[0m    \u001b[0mmin_df\u001b[0m\u001b[1;33m=\u001b[0m\u001b[1;36m1\u001b[0m\u001b[1;33m,\u001b[0m\u001b[1;33m\n",
      "\u001b[0m    \u001b[0mmax_features\u001b[0m\u001b[1;33m=\u001b[0m\u001b[1;32mNone\u001b[0m\u001b[1;33m,\u001b[0m\u001b[1;33m\n",
      "\u001b[0m    \u001b[0mvocabulary\u001b[0m\u001b[1;33m=\u001b[0m\u001b[1;32mNone\u001b[0m\u001b[1;33m,\u001b[0m\u001b[1;33m\n",
      "\u001b[0m    \u001b[0mbinary\u001b[0m\u001b[1;33m=\u001b[0m\u001b[1;32mFalse\u001b[0m\u001b[1;33m,\u001b[0m\u001b[1;33m\n",
      "\u001b[0m    \u001b[0mdtype\u001b[0m\u001b[1;33m=\u001b[0m\u001b[1;33m<\u001b[0m\u001b[1;32mclass\u001b[0m \u001b[1;34m'numpy.float64'\u001b[0m\u001b[1;33m>\u001b[0m\u001b[1;33m,\u001b[0m\u001b[1;33m\n",
      "\u001b[0m    \u001b[0mnorm\u001b[0m\u001b[1;33m=\u001b[0m\u001b[1;34m'l2'\u001b[0m\u001b[1;33m,\u001b[0m\u001b[1;33m\n",
      "\u001b[0m    \u001b[0muse_idf\u001b[0m\u001b[1;33m=\u001b[0m\u001b[1;32mTrue\u001b[0m\u001b[1;33m,\u001b[0m\u001b[1;33m\n",
      "\u001b[0m    \u001b[0msmooth_idf\u001b[0m\u001b[1;33m=\u001b[0m\u001b[1;32mTrue\u001b[0m\u001b[1;33m,\u001b[0m\u001b[1;33m\n",
      "\u001b[0m    \u001b[0msublinear_tf\u001b[0m\u001b[1;33m=\u001b[0m\u001b[1;32mFalse\u001b[0m\u001b[1;33m,\u001b[0m\u001b[1;33m\n",
      "\u001b[0m\u001b[1;33m)\u001b[0m\u001b[1;33m\u001b[0m\u001b[1;33m\u001b[0m\u001b[0m\n",
      "\u001b[1;31mDocstring:\u001b[0m     \n",
      "Convert a collection of raw documents to a matrix of TF-IDF features.\n",
      "\n",
      "Equivalent to :class:`CountVectorizer` followed by\n",
      ":class:`TfidfTransformer`.\n",
      "\n",
      "For an example of usage, see\n",
      ":ref:`sphx_glr_auto_examples_text_plot_document_classification_20newsgroups.py`.\n",
      "\n",
      "For an efficiency comparison of the different feature extractors, see\n",
      ":ref:`sphx_glr_auto_examples_text_plot_hashing_vs_dict_vectorizer.py`.\n",
      "\n",
      "For an example of document clustering and comparison with\n",
      ":class:`~sklearn.feature_extraction.text.HashingVectorizer`, see\n",
      ":ref:`sphx_glr_auto_examples_text_plot_document_clustering.py`.\n",
      "\n",
      "Read more in the :ref:`User Guide <text_feature_extraction>`.\n",
      "\n",
      "Parameters\n",
      "----------\n",
      "input : {'filename', 'file', 'content'}, default='content'\n",
      "    - If `'filename'`, the sequence passed as an argument to fit is\n",
      "      expected to be a list of filenames that need reading to fetch\n",
      "      the raw content to analyze.\n",
      "\n",
      "    - If `'file'`, the sequence items must have a 'read' method (file-like\n",
      "      object) that is called to fetch the bytes in memory.\n",
      "\n",
      "    - If `'content'`, the input is expected to be a sequence of items that\n",
      "      can be of type string or byte.\n",
      "\n",
      "encoding : str, default='utf-8'\n",
      "    If bytes or files are given to analyze, this encoding is used to\n",
      "    decode.\n",
      "\n",
      "decode_error : {'strict', 'ignore', 'replace'}, default='strict'\n",
      "    Instruction on what to do if a byte sequence is given to analyze that\n",
      "    contains characters not of the given `encoding`. By default, it is\n",
      "    'strict', meaning that a UnicodeDecodeError will be raised. Other\n",
      "    values are 'ignore' and 'replace'.\n",
      "\n",
      "strip_accents : {'ascii', 'unicode'} or callable, default=None\n",
      "    Remove accents and perform other character normalization\n",
      "    during the preprocessing step.\n",
      "    'ascii' is a fast method that only works on characters that have\n",
      "    a direct ASCII mapping.\n",
      "    'unicode' is a slightly slower method that works on any characters.\n",
      "    None (default) means no character normalization is performed.\n",
      "\n",
      "    Both 'ascii' and 'unicode' use NFKD normalization from\n",
      "    :func:`unicodedata.normalize`.\n",
      "\n",
      "lowercase : bool, default=True\n",
      "    Convert all characters to lowercase before tokenizing.\n",
      "\n",
      "preprocessor : callable, default=None\n",
      "    Override the preprocessing (string transformation) stage while\n",
      "    preserving the tokenizing and n-grams generation steps.\n",
      "    Only applies if ``analyzer`` is not callable.\n",
      "\n",
      "tokenizer : callable, default=None\n",
      "    Override the string tokenization step while preserving the\n",
      "    preprocessing and n-grams generation steps.\n",
      "    Only applies if ``analyzer == 'word'``.\n",
      "\n",
      "analyzer : {'word', 'char', 'char_wb'} or callable, default='word'\n",
      "    Whether the feature should be made of word or character n-grams.\n",
      "    Option 'char_wb' creates character n-grams only from text inside\n",
      "    word boundaries; n-grams at the edges of words are padded with space.\n",
      "\n",
      "    If a callable is passed it is used to extract the sequence of features\n",
      "    out of the raw, unprocessed input.\n",
      "\n",
      "    .. versionchanged:: 0.21\n",
      "        Since v0.21, if ``input`` is ``'filename'`` or ``'file'``, the data\n",
      "        is first read from the file and then passed to the given callable\n",
      "        analyzer.\n",
      "\n",
      "stop_words : {'english'}, list, default=None\n",
      "    If a string, it is passed to _check_stop_list and the appropriate stop\n",
      "    list is returned. 'english' is currently the only supported string\n",
      "    value.\n",
      "    There are several known issues with 'english' and you should\n",
      "    consider an alternative (see :ref:`stop_words`).\n",
      "\n",
      "    If a list, that list is assumed to contain stop words, all of which\n",
      "    will be removed from the resulting tokens.\n",
      "    Only applies if ``analyzer == 'word'``.\n",
      "\n",
      "    If None, no stop words will be used. In this case, setting `max_df`\n",
      "    to a higher value, such as in the range (0.7, 1.0), can automatically detect\n",
      "    and filter stop words based on intra corpus document frequency of terms.\n",
      "\n",
      "token_pattern : str, default=r\"(?u)\\\\b\\\\w\\\\w+\\\\b\"\n",
      "    Regular expression denoting what constitutes a \"token\", only used\n",
      "    if ``analyzer == 'word'``. The default regexp selects tokens of 2\n",
      "    or more alphanumeric characters (punctuation is completely ignored\n",
      "    and always treated as a token separator).\n",
      "\n",
      "    If there is a capturing group in token_pattern then the\n",
      "    captured group content, not the entire match, becomes the token.\n",
      "    At most one capturing group is permitted.\n",
      "\n",
      "ngram_range : tuple (min_n, max_n), default=(1, 1)\n",
      "    The lower and upper boundary of the range of n-values for different\n",
      "    n-grams to be extracted. All values of n such that min_n <= n <= max_n\n",
      "    will be used. For example an ``ngram_range`` of ``(1, 1)`` means only\n",
      "    unigrams, ``(1, 2)`` means unigrams and bigrams, and ``(2, 2)`` means\n",
      "    only bigrams.\n",
      "    Only applies if ``analyzer`` is not callable.\n",
      "\n",
      "max_df : float or int, default=1.0\n",
      "    When building the vocabulary ignore terms that have a document\n",
      "    frequency strictly higher than the given threshold (corpus-specific\n",
      "    stop words).\n",
      "    If float in range [0.0, 1.0], the parameter represents a proportion of\n",
      "    documents, integer absolute counts.\n",
      "    This parameter is ignored if vocabulary is not None.\n",
      "\n",
      "min_df : float or int, default=1\n",
      "    When building the vocabulary ignore terms that have a document\n",
      "    frequency strictly lower than the given threshold. This value is also\n",
      "    called cut-off in the literature.\n",
      "    If float in range of [0.0, 1.0], the parameter represents a proportion\n",
      "    of documents, integer absolute counts.\n",
      "    This parameter is ignored if vocabulary is not None.\n",
      "\n",
      "max_features : int, default=None\n",
      "    If not None, build a vocabulary that only consider the top\n",
      "    `max_features` ordered by term frequency across the corpus.\n",
      "    Otherwise, all features are used.\n",
      "\n",
      "    This parameter is ignored if vocabulary is not None.\n",
      "\n",
      "vocabulary : Mapping or iterable, default=None\n",
      "    Either a Mapping (e.g., a dict) where keys are terms and values are\n",
      "    indices in the feature matrix, or an iterable over terms. If not\n",
      "    given, a vocabulary is determined from the input documents.\n",
      "\n",
      "binary : bool, default=False\n",
      "    If True, all non-zero term counts are set to 1. This does not mean\n",
      "    outputs will have only 0/1 values, only that the tf term in tf-idf\n",
      "    is binary. (Set `binary` to True, `use_idf` to False and\n",
      "    `norm` to None to get 0/1 outputs).\n",
      "\n",
      "dtype : dtype, default=float64\n",
      "    Type of the matrix returned by fit_transform() or transform().\n",
      "\n",
      "norm : {'l1', 'l2'} or None, default='l2'\n",
      "    Each output row will have unit norm, either:\n",
      "\n",
      "    - 'l2': Sum of squares of vector elements is 1. The cosine\n",
      "      similarity between two vectors is their dot product when l2 norm has\n",
      "      been applied.\n",
      "    - 'l1': Sum of absolute values of vector elements is 1.\n",
      "      See :func:`~sklearn.preprocessing.normalize`.\n",
      "    - None: No normalization.\n",
      "\n",
      "use_idf : bool, default=True\n",
      "    Enable inverse-document-frequency reweighting. If False, idf(t) = 1.\n",
      "\n",
      "smooth_idf : bool, default=True\n",
      "    Smooth idf weights by adding one to document frequencies, as if an\n",
      "    extra document was seen containing every term in the collection\n",
      "    exactly once. Prevents zero divisions.\n",
      "\n",
      "sublinear_tf : bool, default=False\n",
      "    Apply sublinear tf scaling, i.e. replace tf with 1 + log(tf).\n",
      "\n",
      "Attributes\n",
      "----------\n",
      "vocabulary_ : dict\n",
      "    A mapping of terms to feature indices.\n",
      "\n",
      "fixed_vocabulary_ : bool\n",
      "    True if a fixed vocabulary of term to indices mapping\n",
      "    is provided by the user.\n",
      "\n",
      "idf_ : array of shape (n_features,)\n",
      "    The inverse document frequency (IDF) vector; only defined\n",
      "    if ``use_idf`` is True.\n",
      "\n",
      "See Also\n",
      "--------\n",
      "CountVectorizer : Transforms text into a sparse matrix of n-gram counts.\n",
      "\n",
      "TfidfTransformer : Performs the TF-IDF transformation from a provided\n",
      "    matrix of counts.\n",
      "\n",
      "Examples\n",
      "--------\n",
      ">>> from sklearn.feature_extraction.text import TfidfVectorizer\n",
      ">>> corpus = [\n",
      "...     'This is the first document.',\n",
      "...     'This document is the second document.',\n",
      "...     'And this is the third one.',\n",
      "...     'Is this the first document?',\n",
      "... ]\n",
      ">>> vectorizer = TfidfVectorizer()\n",
      ">>> X = vectorizer.fit_transform(corpus)\n",
      ">>> vectorizer.get_feature_names_out()\n",
      "array(['and', 'document', 'first', 'is', 'one', 'second', 'the', 'third',\n",
      "       'this'], ...)\n",
      ">>> print(X.shape)\n",
      "(4, 9)\n",
      "\u001b[1;31mFile:\u001b[0m           c:\\users\\bs6517\\documents_local\\projet_6\\oc_projet_6\\.venv\\lib\\site-packages\\sklearn\\feature_extraction\\text.py\n",
      "\u001b[1;31mType:\u001b[0m           type\n",
      "\u001b[1;31mSubclasses:\u001b[0m     "
     ]
    }
   ],
   "source": [
    "TfidfVectorizer?"
   ]
  },
  {
   "cell_type": "code",
   "execution_count": 40,
   "metadata": {},
   "outputs": [],
   "source": [
    "text = \"he loves working with data. It works like a charm at his work\""
   ]
  },
  {
   "cell_type": "code",
   "execution_count": 41,
   "metadata": {},
   "outputs": [],
   "source": [
    "doc = nlp(text)"
   ]
  },
  {
   "cell_type": "code",
   "execution_count": 42,
   "metadata": {},
   "outputs": [
    {
     "name": "stdout",
     "output_type": "stream",
     "text": [
      "he he True True\n",
      "loves loves False True\n",
      "working working False True\n",
      "with with True True\n",
      "data data False True\n",
      ". . False False\n",
      "It it True True\n",
      "works works False True\n",
      "like like False True\n",
      "a a True True\n",
      "charm charm False True\n",
      "at at True True\n",
      "his his True True\n",
      "work work False True\n"
     ]
    }
   ],
   "source": [
    "for token in doc:\n",
    "    print(token.text, token.lemma_, token.is_stop, token.is_alpha)"
   ]
  },
  {
   "cell_type": "code",
   "execution_count": 43,
   "metadata": {},
   "outputs": [],
   "source": [
    "# Encodage des données textes\n",
    "X = tfidf.fit_transform(flipkart_filtered[\"text\"])"
   ]
  },
  {
   "cell_type": "code",
   "execution_count": 44,
   "metadata": {},
   "outputs": [],
   "source": [
    "# Récupération du nom des features\n",
    "feature_names = tfidf.get_feature_names_out()\n",
    "\n",
    "# Création d'un DataFrame avec les données encodées\n",
    "text_encoded = pd.DataFrame(X.toarray(), columns=feature_names)"
   ]
  },
  {
   "cell_type": "code",
   "execution_count": 45,
   "metadata": {},
   "outputs": [
    {
     "data": {
      "text/html": [
       "<div>\n",
       "<style scoped>\n",
       "    .dataframe tbody tr th:only-of-type {\n",
       "        vertical-align: middle;\n",
       "    }\n",
       "\n",
       "    .dataframe tbody tr th {\n",
       "        vertical-align: top;\n",
       "    }\n",
       "\n",
       "    .dataframe thead th {\n",
       "        text-align: right;\n",
       "    }\n",
       "</style>\n",
       "<table border=\"1\" class=\"dataframe\">\n",
       "  <thead>\n",
       "    <tr style=\"text-align: right;\">\n",
       "      <th></th>\n",
       "      <th>absorbent</th>\n",
       "      <th>abstract</th>\n",
       "      <th>ac</th>\n",
       "      <th>accessories</th>\n",
       "      <th>actual</th>\n",
       "      <th>adapter</th>\n",
       "      <th>adapters</th>\n",
       "      <th>add</th>\n",
       "      <th>addition</th>\n",
       "      <th>additional</th>\n",
       "      <th>...</th>\n",
       "      <th>wooden</th>\n",
       "      <th>work</th>\n",
       "      <th>working</th>\n",
       "      <th>works</th>\n",
       "      <th>world</th>\n",
       "      <th>wrap</th>\n",
       "      <th>year</th>\n",
       "      <th>years</th>\n",
       "      <th>yellow</th>\n",
       "      <th>yes</th>\n",
       "    </tr>\n",
       "  </thead>\n",
       "  <tbody>\n",
       "    <tr>\n",
       "      <th>0</th>\n",
       "      <td>0.0</td>\n",
       "      <td>0.22267</td>\n",
       "      <td>0.0</td>\n",
       "      <td>0.0</td>\n",
       "      <td>0.0</td>\n",
       "      <td>0.0</td>\n",
       "      <td>0.0</td>\n",
       "      <td>0.0</td>\n",
       "      <td>0.0</td>\n",
       "      <td>0.0</td>\n",
       "      <td>...</td>\n",
       "      <td>0.0</td>\n",
       "      <td>0.0</td>\n",
       "      <td>0.0</td>\n",
       "      <td>0.0</td>\n",
       "      <td>0.058079</td>\n",
       "      <td>0.0</td>\n",
       "      <td>0.0</td>\n",
       "      <td>0.000000</td>\n",
       "      <td>0.000000</td>\n",
       "      <td>0.000000</td>\n",
       "    </tr>\n",
       "    <tr>\n",
       "      <th>1</th>\n",
       "      <td>0.0</td>\n",
       "      <td>0.00000</td>\n",
       "      <td>0.0</td>\n",
       "      <td>0.0</td>\n",
       "      <td>0.0</td>\n",
       "      <td>0.0</td>\n",
       "      <td>0.0</td>\n",
       "      <td>0.0</td>\n",
       "      <td>0.0</td>\n",
       "      <td>0.0</td>\n",
       "      <td>...</td>\n",
       "      <td>0.0</td>\n",
       "      <td>0.0</td>\n",
       "      <td>0.0</td>\n",
       "      <td>0.0</td>\n",
       "      <td>0.000000</td>\n",
       "      <td>0.0</td>\n",
       "      <td>0.0</td>\n",
       "      <td>0.000000</td>\n",
       "      <td>0.170886</td>\n",
       "      <td>0.066963</td>\n",
       "    </tr>\n",
       "    <tr>\n",
       "      <th>2</th>\n",
       "      <td>0.0</td>\n",
       "      <td>0.00000</td>\n",
       "      <td>0.0</td>\n",
       "      <td>0.0</td>\n",
       "      <td>0.0</td>\n",
       "      <td>0.0</td>\n",
       "      <td>0.0</td>\n",
       "      <td>0.0</td>\n",
       "      <td>0.0</td>\n",
       "      <td>0.0</td>\n",
       "      <td>...</td>\n",
       "      <td>0.0</td>\n",
       "      <td>0.0</td>\n",
       "      <td>0.0</td>\n",
       "      <td>0.0</td>\n",
       "      <td>0.000000</td>\n",
       "      <td>0.0</td>\n",
       "      <td>0.0</td>\n",
       "      <td>0.052228</td>\n",
       "      <td>0.000000</td>\n",
       "      <td>0.000000</td>\n",
       "    </tr>\n",
       "    <tr>\n",
       "      <th>3</th>\n",
       "      <td>0.0</td>\n",
       "      <td>0.00000</td>\n",
       "      <td>0.0</td>\n",
       "      <td>0.0</td>\n",
       "      <td>0.0</td>\n",
       "      <td>0.0</td>\n",
       "      <td>0.0</td>\n",
       "      <td>0.0</td>\n",
       "      <td>0.0</td>\n",
       "      <td>0.0</td>\n",
       "      <td>...</td>\n",
       "      <td>0.0</td>\n",
       "      <td>0.0</td>\n",
       "      <td>0.0</td>\n",
       "      <td>0.0</td>\n",
       "      <td>0.000000</td>\n",
       "      <td>0.0</td>\n",
       "      <td>0.0</td>\n",
       "      <td>0.000000</td>\n",
       "      <td>0.000000</td>\n",
       "      <td>0.041370</td>\n",
       "    </tr>\n",
       "    <tr>\n",
       "      <th>4</th>\n",
       "      <td>0.0</td>\n",
       "      <td>0.00000</td>\n",
       "      <td>0.0</td>\n",
       "      <td>0.0</td>\n",
       "      <td>0.0</td>\n",
       "      <td>0.0</td>\n",
       "      <td>0.0</td>\n",
       "      <td>0.0</td>\n",
       "      <td>0.0</td>\n",
       "      <td>0.0</td>\n",
       "      <td>...</td>\n",
       "      <td>0.0</td>\n",
       "      <td>0.0</td>\n",
       "      <td>0.0</td>\n",
       "      <td>0.0</td>\n",
       "      <td>0.000000</td>\n",
       "      <td>0.0</td>\n",
       "      <td>0.0</td>\n",
       "      <td>0.000000</td>\n",
       "      <td>0.000000</td>\n",
       "      <td>0.034267</td>\n",
       "    </tr>\n",
       "    <tr>\n",
       "      <th>...</th>\n",
       "      <td>...</td>\n",
       "      <td>...</td>\n",
       "      <td>...</td>\n",
       "      <td>...</td>\n",
       "      <td>...</td>\n",
       "      <td>...</td>\n",
       "      <td>...</td>\n",
       "      <td>...</td>\n",
       "      <td>...</td>\n",
       "      <td>...</td>\n",
       "      <td>...</td>\n",
       "      <td>...</td>\n",
       "      <td>...</td>\n",
       "      <td>...</td>\n",
       "      <td>...</td>\n",
       "      <td>...</td>\n",
       "      <td>...</td>\n",
       "      <td>...</td>\n",
       "      <td>...</td>\n",
       "      <td>...</td>\n",
       "      <td>...</td>\n",
       "    </tr>\n",
       "    <tr>\n",
       "      <th>1045</th>\n",
       "      <td>0.0</td>\n",
       "      <td>0.00000</td>\n",
       "      <td>0.0</td>\n",
       "      <td>0.0</td>\n",
       "      <td>0.0</td>\n",
       "      <td>0.0</td>\n",
       "      <td>0.0</td>\n",
       "      <td>0.0</td>\n",
       "      <td>0.0</td>\n",
       "      <td>0.0</td>\n",
       "      <td>...</td>\n",
       "      <td>0.0</td>\n",
       "      <td>0.0</td>\n",
       "      <td>0.0</td>\n",
       "      <td>0.0</td>\n",
       "      <td>0.000000</td>\n",
       "      <td>0.0</td>\n",
       "      <td>0.0</td>\n",
       "      <td>0.000000</td>\n",
       "      <td>0.000000</td>\n",
       "      <td>0.000000</td>\n",
       "    </tr>\n",
       "    <tr>\n",
       "      <th>1046</th>\n",
       "      <td>0.0</td>\n",
       "      <td>0.00000</td>\n",
       "      <td>0.0</td>\n",
       "      <td>0.0</td>\n",
       "      <td>0.0</td>\n",
       "      <td>0.0</td>\n",
       "      <td>0.0</td>\n",
       "      <td>0.0</td>\n",
       "      <td>0.0</td>\n",
       "      <td>0.0</td>\n",
       "      <td>...</td>\n",
       "      <td>0.0</td>\n",
       "      <td>0.0</td>\n",
       "      <td>0.0</td>\n",
       "      <td>0.0</td>\n",
       "      <td>0.114025</td>\n",
       "      <td>0.0</td>\n",
       "      <td>0.0</td>\n",
       "      <td>0.000000</td>\n",
       "      <td>0.000000</td>\n",
       "      <td>0.000000</td>\n",
       "    </tr>\n",
       "    <tr>\n",
       "      <th>1047</th>\n",
       "      <td>0.0</td>\n",
       "      <td>0.00000</td>\n",
       "      <td>0.0</td>\n",
       "      <td>0.0</td>\n",
       "      <td>0.0</td>\n",
       "      <td>0.0</td>\n",
       "      <td>0.0</td>\n",
       "      <td>0.0</td>\n",
       "      <td>0.0</td>\n",
       "      <td>0.0</td>\n",
       "      <td>...</td>\n",
       "      <td>0.0</td>\n",
       "      <td>0.0</td>\n",
       "      <td>0.0</td>\n",
       "      <td>0.0</td>\n",
       "      <td>0.000000</td>\n",
       "      <td>0.0</td>\n",
       "      <td>0.0</td>\n",
       "      <td>0.000000</td>\n",
       "      <td>0.000000</td>\n",
       "      <td>0.000000</td>\n",
       "    </tr>\n",
       "    <tr>\n",
       "      <th>1048</th>\n",
       "      <td>0.0</td>\n",
       "      <td>0.00000</td>\n",
       "      <td>0.0</td>\n",
       "      <td>0.0</td>\n",
       "      <td>0.0</td>\n",
       "      <td>0.0</td>\n",
       "      <td>0.0</td>\n",
       "      <td>0.0</td>\n",
       "      <td>0.0</td>\n",
       "      <td>0.0</td>\n",
       "      <td>...</td>\n",
       "      <td>0.0</td>\n",
       "      <td>0.0</td>\n",
       "      <td>0.0</td>\n",
       "      <td>0.0</td>\n",
       "      <td>0.000000</td>\n",
       "      <td>0.0</td>\n",
       "      <td>0.0</td>\n",
       "      <td>0.000000</td>\n",
       "      <td>0.000000</td>\n",
       "      <td>0.000000</td>\n",
       "    </tr>\n",
       "    <tr>\n",
       "      <th>1049</th>\n",
       "      <td>0.0</td>\n",
       "      <td>0.00000</td>\n",
       "      <td>0.0</td>\n",
       "      <td>0.0</td>\n",
       "      <td>0.0</td>\n",
       "      <td>0.0</td>\n",
       "      <td>0.0</td>\n",
       "      <td>0.0</td>\n",
       "      <td>0.0</td>\n",
       "      <td>0.0</td>\n",
       "      <td>...</td>\n",
       "      <td>0.0</td>\n",
       "      <td>0.0</td>\n",
       "      <td>0.0</td>\n",
       "      <td>0.0</td>\n",
       "      <td>0.000000</td>\n",
       "      <td>0.0</td>\n",
       "      <td>0.0</td>\n",
       "      <td>0.000000</td>\n",
       "      <td>0.000000</td>\n",
       "      <td>0.000000</td>\n",
       "    </tr>\n",
       "  </tbody>\n",
       "</table>\n",
       "<p>1050 rows × 933 columns</p>\n",
       "</div>"
      ],
      "text/plain": [
       "      absorbent  abstract   ac  accessories  actual  adapter  adapters  add  \\\n",
       "0           0.0   0.22267  0.0          0.0     0.0      0.0       0.0  0.0   \n",
       "1           0.0   0.00000  0.0          0.0     0.0      0.0       0.0  0.0   \n",
       "2           0.0   0.00000  0.0          0.0     0.0      0.0       0.0  0.0   \n",
       "3           0.0   0.00000  0.0          0.0     0.0      0.0       0.0  0.0   \n",
       "4           0.0   0.00000  0.0          0.0     0.0      0.0       0.0  0.0   \n",
       "...         ...       ...  ...          ...     ...      ...       ...  ...   \n",
       "1045        0.0   0.00000  0.0          0.0     0.0      0.0       0.0  0.0   \n",
       "1046        0.0   0.00000  0.0          0.0     0.0      0.0       0.0  0.0   \n",
       "1047        0.0   0.00000  0.0          0.0     0.0      0.0       0.0  0.0   \n",
       "1048        0.0   0.00000  0.0          0.0     0.0      0.0       0.0  0.0   \n",
       "1049        0.0   0.00000  0.0          0.0     0.0      0.0       0.0  0.0   \n",
       "\n",
       "      addition  additional  ...  wooden  work  working  works     world  wrap  \\\n",
       "0          0.0         0.0  ...     0.0   0.0      0.0    0.0  0.058079   0.0   \n",
       "1          0.0         0.0  ...     0.0   0.0      0.0    0.0  0.000000   0.0   \n",
       "2          0.0         0.0  ...     0.0   0.0      0.0    0.0  0.000000   0.0   \n",
       "3          0.0         0.0  ...     0.0   0.0      0.0    0.0  0.000000   0.0   \n",
       "4          0.0         0.0  ...     0.0   0.0      0.0    0.0  0.000000   0.0   \n",
       "...        ...         ...  ...     ...   ...      ...    ...       ...   ...   \n",
       "1045       0.0         0.0  ...     0.0   0.0      0.0    0.0  0.000000   0.0   \n",
       "1046       0.0         0.0  ...     0.0   0.0      0.0    0.0  0.114025   0.0   \n",
       "1047       0.0         0.0  ...     0.0   0.0      0.0    0.0  0.000000   0.0   \n",
       "1048       0.0         0.0  ...     0.0   0.0      0.0    0.0  0.000000   0.0   \n",
       "1049       0.0         0.0  ...     0.0   0.0      0.0    0.0  0.000000   0.0   \n",
       "\n",
       "      year     years    yellow       yes  \n",
       "0      0.0  0.000000  0.000000  0.000000  \n",
       "1      0.0  0.000000  0.170886  0.066963  \n",
       "2      0.0  0.052228  0.000000  0.000000  \n",
       "3      0.0  0.000000  0.000000  0.041370  \n",
       "4      0.0  0.000000  0.000000  0.034267  \n",
       "...    ...       ...       ...       ...  \n",
       "1045   0.0  0.000000  0.000000  0.000000  \n",
       "1046   0.0  0.000000  0.000000  0.000000  \n",
       "1047   0.0  0.000000  0.000000  0.000000  \n",
       "1048   0.0  0.000000  0.000000  0.000000  \n",
       "1049   0.0  0.000000  0.000000  0.000000  \n",
       "\n",
       "[1050 rows x 933 columns]"
      ]
     },
     "execution_count": 45,
     "metadata": {},
     "output_type": "execute_result"
    }
   ],
   "source": [
    "text_encoded"
   ]
  },
  {
   "cell_type": "code",
   "execution_count": 46,
   "metadata": {},
   "outputs": [
    {
     "data": {
      "text/plain": [
       "watch         51.714058\n",
       "analog        46.032912\n",
       "products      44.781049\n",
       "cm            44.466399\n",
       "free          44.449946\n",
       "                ...    \n",
       "requirment     0.232632\n",
       "volatege       0.232632\n",
       "assure         0.232632\n",
       "deviation      0.232632\n",
       "compliance     0.232632\n",
       "Length: 933, dtype: float64"
      ]
     },
     "execution_count": 46,
     "metadata": {},
     "output_type": "execute_result"
    }
   ],
   "source": [
    "text_encoded.sum(axis=0).sort_values(ascending=False)"
   ]
  },
  {
   "cell_type": "markdown",
   "metadata": {},
   "source": [
    "GENSIM"
   ]
  },
  {
   "cell_type": "code",
   "execution_count": 175,
   "metadata": {},
   "outputs": [],
   "source": [
    "from gensim.models import Word2Vec\n",
    "\n",
    "\n",
    "# Exemple de texte\n",
    "documents = [\n",
    "    \"Natural language processing (NLP) is a field of artificial intelligence.\",\n",
    "    \"Word2Vec is an algorithm to compute word embeddings.\",\n",
    "    \"Gensim is a useful library for NLP tasks.\",\n",
    "    \"Embeddings can capture semantic meaning of words.\"\n",
    "]\n",
    "\n",
    "# Prétraitement des données avec spaCy\n",
    "def preprocess(text):\n",
    "    doc = nlp(text)\n",
    "    tokens = [token.lemma_ for token in doc if not token.is_stop and token.is_alpha]\n",
    "    return tokens\n",
    "\n"
   ]
  },
  {
   "cell_type": "code",
   "execution_count": 180,
   "metadata": {},
   "outputs": [
    {
     "data": {
      "text/plain": [
       "72"
      ]
     },
     "execution_count": 180,
     "metadata": {},
     "output_type": "execute_result"
    }
   ],
   "source": [
    "len(documents[0])"
   ]
  },
  {
   "cell_type": "code",
   "execution_count": 176,
   "metadata": {},
   "outputs": [],
   "source": [
    "# Entraînement du modèle Word2Vec avec gensim\n",
    "model = Word2Vec(sentences=documents, vector_size=100, window=5, min_count=1, workers=4)\n",
    "\n",
    "# Accès aux embeddings\n",
    "word_embeddings = model.wv"
   ]
  },
  {
   "cell_type": "code",
   "execution_count": 160,
   "metadata": {},
   "outputs": [
    {
     "name": "stdout",
     "output_type": "stream",
     "text": [
      "Nombre de mots dans le vocabulaire: 33\n"
     ]
    }
   ],
   "source": [
    "# Affichage du nombre de mots dans le vocabulaire\n",
    "print(\"Nombre de mots dans le vocabulaire:\", len(word_embeddings.key_to_index))"
   ]
  },
  {
   "cell_type": "code",
   "execution_count": 161,
   "metadata": {},
   "outputs": [
    {
     "data": {
      "text/plain": [
       "4"
      ]
     },
     "execution_count": 161,
     "metadata": {},
     "output_type": "execute_result"
    }
   ],
   "source": [
    "len(documents)"
   ]
  },
  {
   "cell_type": "code",
   "execution_count": 171,
   "metadata": {},
   "outputs": [],
   "source": [
    "# Entraînement du modèle Word2Vec avec gensim\n",
    "model = Word2Vec(sentences=flipkart_filtered[\"text\"], vector_size=100, window=5, min_count=1, workers=4)\n",
    "\n",
    "# Accès aux embeddings\n",
    "word_embeddings = model.wv"
   ]
  },
  {
   "cell_type": "code",
   "execution_count": 172,
   "metadata": {},
   "outputs": [
    {
     "name": "stdout",
     "output_type": "stream",
     "text": [
      "Nombre de mots dans le vocabulaire: 100\n"
     ]
    }
   ],
   "source": [
    "# Affichage du nombre de mots dans le vocabulaire\n",
    "print(\"Nombre de mots dans le vocabulaire:\", len(word_embeddings.key_to_index))"
   ]
  },
  {
   "cell_type": "code",
   "execution_count": 173,
   "metadata": {},
   "outputs": [
    {
     "data": {
      "text/plain": [
       "0       Elegance Polyester Multicolor Abstract Eyelet ...\n",
       "1       Sathiyas Cotton Bath Towel Specifications of S...\n",
       "2       Eurospa Cotton Terry Face Towel Set Key Featur...\n",
       "3       SANTOSH ROYAL FASHION Cotton Printed King size...\n",
       "4       Jaipur Print Cotton Floral King sized Double B...\n",
       "                              ...                        \n",
       "1045    Oren Empower Extra Large Self Adhesive Sticker...\n",
       "1046    Wallmantra Large Vinyl Sticker Sticker Wallman...\n",
       "1047    Uberlyfe Extra Large Pigmented Polyvinyl Films...\n",
       "1048    Wallmantra Medium Vinyl Sticker Sticker Buy Wa...\n",
       "1049    Uberlyfe Large Vinyl Sticker Buy Uberlyfe Larg...\n",
       "Name: text, Length: 1050, dtype: object"
      ]
     },
     "execution_count": 173,
     "metadata": {},
     "output_type": "execute_result"
    }
   ],
   "source": [
    "flipkart_filtered[\"text\"]"
   ]
  },
  {
   "cell_type": "markdown",
   "metadata": {},
   "source": [
    "**LLM Medium Cours**\n",
    "\n",
    "\n",
    "* Les premiers modèles de langage\n",
    "    * Ruled-based systems : Utilisation d'un mapping pour traduire des phrases\n",
    "    * Statistical Machine Translation (SMT) : Utilisation d'un modèle d'alignement (constitué de plusieurs composants tels que langage input model/translation model/reordering model/inflection model/etc... pour chaque pair de langage) pour traduire des phrases (Google Translate 2006)\n",
    "        * Gestion du positionnement des mots (ex. S-O-V vers S-V-O)\n",
    "        * Gestion de l'omission des mots (ex. \"I am looking for a job\" vers \"Je cherche un emploi\")\n",
    "        * Gestion de l'ajout de mots (ex. \"J'irai\" vers \"I will go\")\n",
    "    * Early Neural Machine Translation (NMT) : Utilisation de réseaux de neurones (CNN/RNN) pour traduire des phrases de 2010 à 2014\n",
    "    * Encoder-Decoder : Utilisation de deux réseaux de neurones (un pour encoder et un pour decoder) pour traduire des phrases de 2014 à 2016\n"
   ]
  },
  {
   "cell_type": "code",
   "execution_count": 148,
   "metadata": {},
   "outputs": [],
   "source": [
    "doc = list(flipkart_filtered[\"text\"].str.lower())"
   ]
  },
  {
   "cell_type": "code",
   "execution_count": 153,
   "metadata": {},
   "outputs": [
    {
     "data": {
      "text/plain": [
       "1050"
      ]
     },
     "execution_count": 153,
     "metadata": {},
     "output_type": "execute_result"
    }
   ],
   "source": [
    "len(processed_docs)"
   ]
  },
  {
   "cell_type": "code",
   "execution_count": 151,
   "metadata": {},
   "outputs": [
    {
     "data": {
      "text/plain": [
       "['elegance polyester multicolor abstract eyelet door curtain key features of elegance polyester multicolor abstract eyelet door curtain floral curtain,elegance polyester multicolor abstract eyelet door curtain (213 cm in height, pack of 2) price: rs. 899 this curtain enhances the look of the interiors.this curtain is made from 100% high quality polyester fabric.it features an eyelet style stitch with metal ring.it makes the room environment romantic and loving.this curtain is ant- wrinkle and anti shrinkage and have elegant apparance.give your home a bright and modernistic appeal with these designs. the surreal attention is sure to steal hearts. these contemporary eyelet and valance curtains slide smoothly so when you draw them apart first thing in the morning to welcome the bright sun rays you want to wish good morning to the whole world and when you draw them close in the evening, you create the most special moments of joyous beauty given by the soothing prints. bring home the elegant curtain that softly filters light in your room so that you get the right amount of sunlight.,specifications of elegance polyester multicolor abstract eyelet door curtain (213 cm in height, pack of 2) general brand elegance designed for door type eyelet model name abstract polyester door curtain set of 2 model id duster25 color multicolor dimensions length 213 cm in the box number of contents in sales package pack of 2 sales package 2 curtains body & design material polyester',\n",
       " 'sathiyas cotton bath towel specifications of sathiyas cotton bath towel (3 bath towel, red, yellow, blue) bath towel features machine washable yes material cotton design self design general brand sathiyas type bath towel gsm 500 model name sathiyas cotton bath towel ideal for men, women, boys, girls model id asvtwl322 color red, yellow, blue size mediam dimensions length 30 inch width 60 inch in the box number of contents in sales package 3 sales package 3 bath towel',\n",
       " 'eurospa cotton terry face towel set key features of eurospa cotton terry face towel set size: small height: 9 inch gsm: 360,eurospa cotton terry face towel set (20 piece face towel set, assorted) price: rs. 299 eurospa brings to you an exclusively designed, 100% soft cotton towels of export quality. all our products have soft texture that takes care of your skin and gives you that enriched feeling you deserve. eurospa has been exporting its bath towels to lot of renowned brands for last 10 years and is famous for its fine prints, absorbency, softness and durability. note: our product is 100% cotton, so it is susceptible to shrinkage. product color may vary from the picture. size may vary by ±3% wash care: wash in cold water, do not iron, do not bleach, flat dry, wash before first use. size- face towel - 23 cms x 23 cms.,specifications of eurospa cotton terry face towel set (20 piece face towel set, assorted) bath towel features material cotton terry design shuvam general brand eurospa gsm 360 type face towel set model name shuvam20pcftsetassorted ideal for boys, girls, men, women model id shuvam20pcftsetassorted size small color assorted dimensions weight 350 g length 9 inch width 9 inch in the box number of contents in sales package 20 sales package 20 piece face towel set',\n",
       " 'santosh royal fashion cotton printed king sized double bedsheet key features of santosh royal fashion cotton printed king sized double bedsheet royal bedsheet perfact for wedding & gifting,specifications of santosh royal fashion cotton printed king sized double bedsheet (1 bedsheet,2 pillow cover, multicolor) general brand santosh royal fashion machine washable yes type flat material cotton model name gold design royal cotton printed wedding & gifted double bedsheet with 2 pillow cover model id goldbedi-38 color multicolor size king fabric care machine wash, do not bleach dimensions flat sheet width 90 inch / 230 cm fitted sheet width 228 cm pillow cover width 16 inch / 43 cm pillow cover length 28 inch / 72 cm fitted sheet depth 280 cm fitted sheet length 278 cm flat sheet depth 282 cm flat sheet length 110 inch / 280 cm in the box number of contents in sales package 1 sales package 1 bedsheet,2 pillow cover',\n",
       " 'jaipur print cotton floral king sized double bedsheet key features of jaipur print cotton floral king sized double bedsheet 100% cotton,jaipur print cotton floral king sized double bedsheet (1 bed sheet 2 pillow cover, white) price: rs. 998 this nice bed sheet made up of 100% cotton to give you comfort. this bed sheet is hand printed. this bedsheet gives nice look to your room and its fast colour and good quality gives this bedsheet long life.,specifications of jaipur print cotton floral king sized double bedsheet (1 bed sheet 2 pillow cover, white) general machine washable yes brand jaipur print type flat model name jaipur117 material cotton thread count 140 model id jaipur117 fabric care machinewash, do not bleach size king color white warranty waranty of the product only for manufacturing defect only and product will exchange onle when it is not used and returne its origional packing dimensions flat sheet width 86 inch / 220 cm fitted sheet width 0 cm pillow cover width 17 inch / 45 cm pillow cover length 29 inch / 75 cm weight 900 g fitted sheet depth 0 cm fitted sheet length 0 cm flat sheet depth 0.2 cm flat sheet length 104 inch / 265 cm in the box number of contents in sales package 1 sales package 1 bed sheet 2 pillow cover']"
      ]
     },
     "execution_count": 151,
     "metadata": {},
     "output_type": "execute_result"
    }
   ],
   "source": [
    "doc[:5]"
   ]
  },
  {
   "cell_type": "code",
   "execution_count": 174,
   "metadata": {},
   "outputs": [
    {
     "data": {
      "text/plain": [
       "100"
      ]
     },
     "execution_count": 174,
     "metadata": {},
     "output_type": "execute_result"
    }
   ],
   "source": [
    "len(word_embeddings.key_to_index)"
   ]
  },
  {
   "cell_type": "code",
   "execution_count": 179,
   "metadata": {},
   "outputs": [
    {
     "data": {
      "text/plain": [
       "{' ': 0,\n",
       " 'i': 1,\n",
       " 'a': 2,\n",
       " 'e': 3,\n",
       " 's': 4,\n",
       " 'n': 5,\n",
       " 'r': 6,\n",
       " 'o': 7,\n",
       " 'l': 8,\n",
       " 't': 9,\n",
       " 'c': 10,\n",
       " 'd': 11,\n",
       " 'g': 12,\n",
       " 'm': 13,\n",
       " 'u': 14,\n",
       " 'f': 15,\n",
       " '.': 16,\n",
       " 'b': 17,\n",
       " 'p': 18,\n",
       " 'N': 19,\n",
       " 'L': 20,\n",
       " 'P': 21,\n",
       " 'w': 22,\n",
       " '(': 23,\n",
       " 'k': 24,\n",
       " ')': 25,\n",
       " 'W': 26,\n",
       " '2': 27,\n",
       " 'V': 28,\n",
       " 'h': 29,\n",
       " 'G': 30,\n",
       " 'y': 31,\n",
       " 'E': 32}"
      ]
     },
     "execution_count": 179,
     "metadata": {},
     "output_type": "execute_result"
    }
   ],
   "source": [
    "word_embeddings.key_to_index"
   ]
  },
  {
   "cell_type": "code",
   "execution_count": 178,
   "metadata": {},
   "outputs": [
    {
     "name": "stdout",
     "output_type": "stream",
     "text": [
      "  [-8.4582512e-04  4.2948814e-04  5.3986222e-03  9.4918134e-03\n",
      " -9.5582837e-03 -7.6129944e-03  6.5834853e-03  9.9205654e-03\n",
      " -5.7769809e-03 -4.2852922e-03  7.2571570e-03 -2.0699222e-03\n",
      " -4.5687873e-03  7.0042210e-03 -4.7364240e-03 -1.9380775e-03\n",
      "  3.5221244e-03  1.3659195e-03 -8.4825009e-03 -1.0530546e-02\n",
      "  7.5976127e-03  5.0185570e-03  7.4490877e-03  5.7386828e-04\n",
      "  6.6243745e-03 -3.1920853e-03 -1.6744758e-03  6.4635305e-03\n",
      " -7.7667194e-03 -3.5522296e-03 -7.0644286e-03 -1.2431993e-03\n",
      "  9.8766647e-03 -8.0859121e-03 -2.3421117e-03 -1.7325858e-03\n",
      "  8.6606480e-03 -5.8754724e-03  1.1222587e-05 -4.7939192e-03\n",
      " -9.5098484e-03  4.6237404e-03 -9.4647920e-03 -4.0507265e-03\n",
      " -1.7303969e-04 -7.6394767e-04 -8.1098080e-03  9.6009327e-03\n",
      "  5.2983323e-03  9.3668560e-03 -8.1787733e-03  4.0929676e-03\n",
      " -4.3931981e-03  9.7053527e-04  8.4257256e-03 -4.2983913e-03\n",
      "  4.7489461e-03 -7.1314522e-03 -3.5468941e-03  9.9490928e-03\n",
      " -1.7351648e-03  2.0520035e-04 -3.5922523e-03 -7.6202261e-03\n",
      " -1.7822933e-03  3.1726277e-03 -4.4949391e-04  6.0242130e-03\n",
      " -3.1044376e-03  2.6126888e-03  5.6606373e-03  8.8389926e-03\n",
      " -1.2416051e-03 -9.1671227e-03  4.9289623e-03  9.7242941e-04\n",
      "  7.5975317e-03 -5.7109154e-04 -2.8022497e-03 -9.1886241e-03\n",
      " -1.5341745e-03  2.7937698e-03  5.7897102e-03  7.6568448e-03\n",
      " -6.2408485e-03  1.7381934e-03  6.5185125e-03 -4.8851385e-03\n",
      " -2.9714280e-03  7.0726499e-03  2.1723893e-03  3.4410699e-04\n",
      "  3.7292333e-03 -8.2485065e-05  1.0270187e-02  5.2077351e-03\n",
      " -8.5451119e-03 -7.3396927e-03  1.1223769e-03  6.8193525e-03]\n",
      "i [-8.9119794e-03  3.8442817e-03  5.4557589e-03  6.2775831e-03\n",
      "  7.2540934e-03 -6.6423733e-03  1.1908490e-03  7.0547527e-03\n",
      " -3.5399643e-03 -6.6012046e-03 -4.7502792e-04 -8.9002140e-03\n",
      " -5.6575448e-03  7.6421429e-03  3.4029018e-03  7.1191168e-03\n",
      "  7.4608652e-03  7.9814354e-03 -3.9984640e-03 -1.6045455e-03\n",
      "  2.6519983e-03 -4.6046530e-03  9.0254303e-03 -1.0072649e-02\n",
      "  7.0585120e-03  3.0752525e-03 -5.5731083e-03  5.1818769e-03\n",
      " -2.0618250e-03  7.0061702e-03  1.0380065e-02 -4.6875225e-03\n",
      " -2.3821680e-04 -6.3740336e-03  3.7837971e-03  2.9596151e-03\n",
      "  7.5234668e-03  6.0941465e-03  9.4536431e-03  9.3162209e-03\n",
      "  7.9562534e-03 -7.3026302e-03 -9.9082636e-03 -9.1414959e-06\n",
      " -3.2147833e-03  7.5412830e-03  5.5148960e-03 -1.6257417e-03\n",
      "  1.8041398e-03  1.9544323e-03  7.7698594e-03 -9.8869875e-03\n",
      " -5.1876804e-04  3.5948183e-03 -9.9165528e-04  8.4687918e-03\n",
      "  9.2154033e-03  6.1639678e-03 -7.1687449e-04  8.2736779e-03\n",
      " -8.7347692e-03  3.1046353e-03 -4.1532344e-03 -5.1016412e-03\n",
      "  3.2766708e-03  6.0427124e-03  8.2161091e-03 -5.3206109e-03\n",
      "  7.1342299e-03  7.0208511e-03 -3.4998213e-03 -8.2633700e-03\n",
      "  5.5993670e-03  6.4912406e-03 -2.0391755e-04 -6.3492130e-03\n",
      " -6.8432977e-03 -2.2674142e-03  4.9823271e-03 -4.1434858e-03\n",
      " -1.0064980e-02  3.8303845e-03  5.2087610e-03 -5.7827923e-03\n",
      "  5.9467723e-04 -2.1988566e-03  4.3711934e-04 -1.0106712e-02\n",
      "  2.8091320e-03 -4.4704876e-03  1.4747611e-03 -1.4535894e-03\n",
      "  2.5416075e-03 -8.2086800e-03 -2.0999736e-03  2.8178913e-03\n",
      "  5.7269624e-03 -2.6263644e-03 -9.3002776e-03  4.9817427e-03]\n",
      "a [-8.3882347e-05  3.1624204e-03 -6.6712187e-03 -1.1022657e-03\n",
      "  7.5041610e-03  7.0347562e-03 -3.6334586e-03  3.2238436e-03\n",
      " -8.7584890e-03  5.9202835e-03 -4.6675946e-03 -3.4550480e-03\n",
      "  9.2838081e-03  1.1481222e-03  7.5230296e-03 -6.0852678e-03\n",
      "  5.5654552e-03  1.0135610e-02 -8.5548628e-03 -5.7587046e-03\n",
      " -6.8803919e-03 -4.9266862e-03 -3.3509657e-03 -8.6665424e-03\n",
      "  8.1033185e-03 -4.7435299e-03  8.0426829e-03  5.6757079e-03\n",
      " -6.6896807e-03  4.1640722e-03  5.7728803e-03 -7.5975098e-03\n",
      " -7.1743070e-03 -2.8669888e-03 -8.6316513e-03 -1.4454472e-03\n",
      " -3.9690698e-05  3.3200129e-03  1.3895859e-03 -8.7667321e-04\n",
      " -5.5218274e-03  1.5192505e-03 -1.3197304e-03  6.9842651e-03\n",
      "  3.9107306e-03  4.3136706e-03  1.1744967e-03 -2.7334832e-03\n",
      " -4.1842731e-03 -9.3974615e-04  1.4025723e-03 -2.8503973e-03\n",
      " -7.2642774e-03 -7.6943757e-03 -9.1656977e-03 -5.8743795e-03\n",
      " -1.7401160e-03 -4.5413445e-03 -6.4731375e-03 -3.4094844e-03\n",
      "  4.1950438e-03 -3.7609064e-03  8.6764544e-03  1.5553506e-03\n",
      " -7.4240370e-03  9.8194806e-03  7.8667039e-03  5.7354374e-03\n",
      " -6.9969231e-03  6.0186246e-03  4.1547646e-03  5.4633413e-03\n",
      "  4.3496978e-03  1.9782213e-03 -2.8223991e-03  8.5488018e-03\n",
      "  9.7442809e-03  3.9171427e-03 -2.9025658e-03 -2.2686424e-04\n",
      "  8.7553350e-04 -8.4715355e-03 -8.0148410e-03  1.4857374e-04\n",
      "  8.8904396e-04 -5.8437791e-03 -4.5222952e-03 -7.4016470e-03\n",
      "  8.4079960e-03  2.6936497e-04 -4.2225155e-03  5.7916059e-03\n",
      "  9.3556764e-03 -4.2708465e-03  8.2972851e-03  5.4531535e-03\n",
      "  6.1035785e-03  3.3589805e-04  8.3494755e-03 -6.7792330e-03]\n",
      "e [-8.3859218e-03  9.3756290e-03 -6.7394241e-05 -1.7157161e-03\n",
      "  4.4896347e-03 -4.3310337e-03  2.7937214e-03  7.3555512e-03\n",
      "  5.7410668e-03 -7.7162185e-03  9.3870871e-03  4.4293823e-03\n",
      "  3.9596409e-03 -6.0392478e-03  8.4843142e-03 -2.1703546e-03\n",
      "  9.0967556e-03 -5.2234819e-03 -8.2336580e-03  6.3687540e-03\n",
      "  1.8011524e-03 -2.2047770e-03  9.8156258e-03  9.3863197e-03\n",
      " -9.6593779e-03  2.5736981e-03  5.8806785e-03  4.1842312e-03\n",
      "  1.8998439e-03  5.4700370e-04  8.5892907e-04 -3.9588884e-03\n",
      " -6.9646956e-03 -2.3552214e-03  3.9000758e-03  8.9375097e-03\n",
      "  9.5447199e-03 -5.9720958e-03 -9.4471341e-03  9.7825471e-03\n",
      "  3.4783368e-03  5.0235060e-03  5.9540146e-03 -2.6729819e-03\n",
      "  7.2855661e-03  2.6963579e-03  2.6709782e-03 -2.3844822e-03\n",
      " -2.9994238e-03 -2.2962671e-03  4.2457641e-03 -6.9994756e-05\n",
      " -9.7047770e-03 -9.5834918e-03 -6.1740447e-03 -8.3612860e-05\n",
      "  2.0950211e-03  9.2782238e-03  5.5869911e-03 -4.0540942e-03\n",
      "  1.9782654e-04  4.9349018e-03  7.9073217e-03 -1.1563406e-03\n",
      "  4.1945116e-03 -5.5470639e-03 -6.7498966e-04  8.2903961e-03\n",
      " -2.4789071e-03 -9.5258988e-03  5.8673839e-03 -3.7134590e-03\n",
      " -1.1397275e-03  9.9886525e-03 -2.0283659e-03 -4.6245097e-03\n",
      " -5.2408963e-03  7.0454050e-03 -5.7585998e-03  1.9270863e-03\n",
      " -5.5232150e-03  6.1137625e-03  4.5064115e-03  2.8704014e-03\n",
      " -1.7427662e-03 -2.8055627e-03  9.1335094e-03  5.1396266e-03\n",
      " -2.0756188e-03 -9.3348455e-03 -7.2508384e-03 -9.8674593e-04\n",
      " -6.8164855e-04 -2.6794476e-03  9.9584572e-03 -3.8252710e-04\n",
      "  6.0051437e-03 -7.5689065e-03 -2.4097981e-03 -5.3841132e-03]\n",
      "s [-0.00729507  0.00130572 -0.00706549 -0.00197416  0.00356272  0.00553955\n",
      "  0.0012447   0.00269191 -0.00456655  0.00697748 -0.0063237   0.00436386\n",
      " -0.00822496  0.00231301 -0.00496296 -0.00427441 -0.00270453  0.00585259\n",
      "  0.00572478 -0.00560837  0.00095651 -0.00857194  0.00823493  0.00911956\n",
      " -0.00260934  0.00086963  0.0003764   0.0059345  -0.00874598  0.00076836\n",
      "  0.00713449  0.00207671  0.00137876 -0.00965417  0.00845595 -0.00614026\n",
      " -0.00264654  0.00348825 -0.00085358  0.00142227  0.0018177  -0.00700062\n",
      " -0.01015584  0.00924357  0.00613122 -0.00711744  0.00315154  0.00016884\n",
      "  0.00491959 -0.00702238  0.00395736  0.00416724  0.00975264 -0.00437225\n",
      " -0.00141061 -0.00730119 -0.00962328 -0.00931659 -0.00100355 -0.00620554\n",
      "  0.00473413 -0.00623026  0.00282409  0.00075321 -0.00363147 -0.00060949\n",
      "  0.01020175  0.00938988 -0.00464094  0.00929706 -0.00549321  0.00624087\n",
      " -0.00300834  0.00345125  0.00335125  0.00709586 -0.00220181  0.00888546\n",
      "  0.00748949 -0.00978575 -0.0083471  -0.00763192  0.00311402 -0.00235998\n",
      " -0.00729252 -0.00824021  0.0084948   0.00192828 -0.00923683 -0.00463368\n",
      "  0.00340137 -0.00463125  0.00546771 -0.0044005   0.00297086 -0.00797439\n",
      "  0.00645317  0.00466263  0.00098318  0.00325208]\n",
      "n [-0.00917731  0.00234389 -0.00054492 -0.00884364 -0.00958033 -0.00195422\n",
      "  0.00449971  0.00468012 -0.00728209 -0.0074703  -0.00516879 -0.00295565\n",
      " -0.0073504  -0.00917696 -0.00254566 -0.00852704 -0.00542946 -0.00523273\n",
      " -0.00252061 -0.00279266 -0.00872958 -0.00080048  0.00882494  0.00756167\n",
      " -0.00692615 -0.00334736  0.00236998 -0.00885487  0.00121081  0.00692824\n",
      "  0.00622088 -0.0090966  -0.00422371 -0.00887726  0.00010509  0.00951236\n",
      "  0.00654756  0.00515037  0.00504726 -0.00310932  0.00981074 -0.00791357\n",
      " -0.00804007 -0.00180263 -0.00091207 -0.00366684 -0.00101698  0.00739242\n",
      " -0.00037755 -0.00157558  0.00286139 -0.00888692  0.00766541  0.00874493\n",
      " -0.0097688   0.00271666  0.01023512 -0.00798043 -0.00690583 -0.00712441\n",
      "  0.00821717 -0.00075414  0.00975644 -0.00807008  0.00354233  0.00334587\n",
      "  0.00117512  0.00287998 -0.00777416 -0.00903924  0.0025545   0.00661658\n",
      "  0.00825703  0.00585986 -0.00019636  0.00879313 -0.00921746  0.00365127\n",
      "  0.00019054  0.00341969  0.00657318 -0.00677595  0.00595631 -0.00898611\n",
      " -0.00135503 -0.00876682 -0.00465713  0.00916229 -0.00159716  0.00314857\n",
      "  0.00963165  0.00917456 -0.00795443 -0.00331331  0.01053945  0.00529901\n",
      " -0.0010309  -0.00901163  0.00310531 -0.006282  ]\n",
      "r [ 8.0331853e-03 -4.4120871e-03 -1.0053860e-03  1.1545740e-03\n",
      " -2.4379999e-04  1.0170802e-03  6.1309845e-03  1.8993957e-04\n",
      " -3.4113622e-03 -1.6115684e-03  5.8839344e-03  1.3752981e-03\n",
      " -7.4778171e-04  9.4516156e-03 -4.9153967e-03 -8.5527130e-04\n",
      "  9.3040690e-03  6.8301191e-03  1.4541333e-03 -9.1043599e-03\n",
      "  1.2136387e-03 -2.2809238e-03  9.4941752e-03  1.1660331e-03\n",
      "  1.5560158e-03  2.4429250e-03 -1.9876002e-03 -4.8327614e-03\n",
      "  1.6244325e-04 -1.9743191e-03  6.7006322e-03  8.8701965e-03\n",
      " -5.9717864e-04  2.8475588e-03 -6.1256611e-03  1.7717647e-03\n",
      " -6.7678839e-03 -8.6878072e-03 -5.9161102e-03 -8.9216912e-03\n",
      "  7.3282798e-03 -5.8616134e-03  8.1086047e-03 -7.1701067e-03\n",
      "  3.4077910e-03  9.6225124e-03 -7.8973854e-03 -9.9529009e-03\n",
      " -4.2490270e-03 -2.6598522e-03 -2.6656373e-04 -8.9081302e-03\n",
      " -8.6572804e-03  2.8612097e-03 -8.2304236e-03 -9.0320688e-03\n",
      " -2.2666147e-03 -8.7072831e-03 -7.0463791e-03 -8.2735857e-03\n",
      " -3.3326261e-04 -4.5667309e-03  6.7298715e-03  1.5137556e-03\n",
      " -3.3778383e-03  6.2325089e-03 -5.9486735e-03 -4.5601469e-03\n",
      " -7.2519202e-03 -4.2673852e-03 -1.7812568e-03  6.5862006e-03\n",
      " -2.7293481e-03  4.9107359e-03  7.0355185e-03 -7.3908889e-03\n",
      "  4.5966157e-03  6.1719590e-03 -2.9584772e-03  6.5236301e-03\n",
      "  5.9675518e-03 -6.4532948e-03 -6.6936756e-03  2.6583010e-03\n",
      " -1.7511777e-03 -6.0850219e-03  9.5699187e-03 -5.1797885e-03\n",
      " -6.4993673e-03 -4.5541605e-05 -2.6248137e-03  4.9652567e-04\n",
      " -3.4857725e-03 -4.7994929e-04 -5.6331244e-04  8.5845444e-04\n",
      "  8.2577392e-03 -5.7859547e-03 -1.6259914e-03  5.6752302e-03]\n",
      "o [ 7.9544717e-03 -4.3289205e-03  9.1545004e-03  8.5402597e-03\n",
      " -4.5322613e-03 -1.2379543e-05  4.3287510e-03 -3.3300163e-03\n",
      " -6.0225660e-03 -6.8528424e-03 -7.7021500e-04 -6.6790864e-04\n",
      "  4.4289553e-03 -2.1815368e-03 -6.5249515e-05  2.3780167e-03\n",
      "  5.2572358e-03  2.3074188e-04 -6.4401100e-03 -9.9030547e-03\n",
      "  1.9437290e-04  6.6013834e-03  1.8653505e-03 -9.0576531e-03\n",
      " -7.7473908e-03  6.7037386e-03 -4.2393524e-03  6.7010722e-03\n",
      " -6.8284571e-03  8.7149898e-03 -6.2302984e-03  3.0941840e-03\n",
      " -8.7706314e-04 -7.2537181e-03 -3.2600714e-03 -1.0293903e-03\n",
      " -5.1040752e-03 -1.1579411e-03 -7.5607267e-03  2.6811264e-03\n",
      "  9.1542602e-03 -2.6632871e-03 -1.4207655e-03  3.7662396e-03\n",
      "  8.5661961e-03 -6.1922944e-03 -7.1504647e-03 -2.9635611e-03\n",
      "  9.3424860e-03  9.2676695e-04 -8.6464072e-03 -1.7419034e-03\n",
      "  9.3253441e-03 -7.4445107e-03 -5.4206704e-03  9.4528571e-03\n",
      " -8.8050049e-03  3.6350184e-03  6.9290149e-04  7.0238090e-03\n",
      "  8.1977416e-03 -2.9047851e-03 -3.6373446e-03  8.9445030e-03\n",
      "  1.9341969e-03  6.6837994e-03 -9.1653634e-03  9.8929582e-03\n",
      " -1.5359741e-03 -5.8326824e-03  3.1221742e-03 -1.8239244e-04\n",
      "  4.8488267e-03 -2.2249587e-03 -3.7863243e-03  2.5389928e-03\n",
      "  8.4215561e-03 -4.8341509e-03  2.5842504e-03 -8.2599055e-03\n",
      " -7.2444328e-03 -4.7702066e-04 -8.5393069e-03  3.1348236e-03\n",
      "  1.2657477e-03 -2.3720711e-03  5.2760346e-03  9.6761128e-03\n",
      "  8.5676014e-03 -1.7465429e-03  2.3880568e-03 -3.8867570e-03\n",
      " -8.0701597e-03  6.1040362e-03 -1.5536976e-03 -5.6700938e-04\n",
      " -1.4873812e-03 -4.7350647e-03  4.1567795e-03 -4.0112636e-03]\n",
      "l [-9.8598618e-03  9.0759313e-03  4.3996028e-03  9.5590958e-03\n",
      "  6.5237861e-03  2.5849396e-03  9.8406989e-03 -3.7469531e-03\n",
      " -7.3126727e-03  3.8363542e-03  3.5819786e-03 -6.1243861e-03\n",
      "  9.6443286e-03 -3.2485207e-03  9.6627111e-03  7.0263044e-04\n",
      " -5.9505198e-03 -1.6497647e-03 -7.4739354e-03 -3.7130998e-03\n",
      "  1.1758987e-03  9.4641745e-03  9.7762207e-03 -6.6781295e-03\n",
      "  3.6584355e-03  2.4949827e-03 -3.0068760e-03 -8.7314472e-03\n",
      "  8.4394327e-04 -7.8848172e-03  6.6203834e-03 -6.0443832e-03\n",
      "  5.7082884e-03  9.3243793e-03 -1.7016102e-04  4.7090123e-03\n",
      " -1.4011774e-03  7.3910793e-03  3.9071157e-03 -8.9414185e-03\n",
      " -2.2150066e-03  3.2634600e-03 -6.4160069e-04 -9.0108352e-04\n",
      " -1.1568272e-03 -2.0018888e-03  3.1283699e-04  4.0754015e-03\n",
      " -4.0530432e-03 -3.8202596e-03  2.7054204e-05 -1.2140924e-04\n",
      " -3.0058145e-04 -4.6463478e-03  4.1802689e-03 -1.9786039e-03\n",
      "  2.3015756e-03  4.1153913e-04  6.0024317e-03 -6.4559053e-03\n",
      " -6.9427453e-03 -4.5615463e-03  9.8813856e-03 -1.5389733e-03\n",
      " -9.5682014e-03 -3.3606291e-05 -4.1400334e-03  6.3565108e-03\n",
      " -9.8443246e-03  3.0987796e-03 -9.1389446e-03  1.5983422e-03\n",
      "  6.1776796e-03  7.4345209e-03 -7.2243018e-03 -5.6943768e-03\n",
      " -6.7606498e-03 -7.7532874e-03 -9.5864320e-03 -2.4106035e-03\n",
      " -1.3789334e-03 -7.2993832e-03  7.0394650e-03  1.4852703e-03\n",
      "  5.4266537e-03  1.4181141e-03  1.0833562e-03 -7.4670771e-03\n",
      " -2.0272613e-03  4.5207790e-03 -4.7194259e-03  1.2747409e-03\n",
      "  3.0459277e-03 -1.7671816e-03  1.0383542e-02  8.4653441e-03\n",
      "  2.7914629e-03  6.9487737e-03  6.0213376e-03 -5.2801026e-03]\n",
      "t [-0.00528791 -0.00658409 -0.00764529  0.00852542 -0.00207351 -0.0070595\n",
      " -0.0041064   0.0054871  -0.0031489  -0.00395492  0.00158539 -0.00299713\n",
      " -0.00159338  0.00124988 -0.00292502  0.00847591  0.00413347 -0.00982071\n",
      "  0.00616847 -0.00714659  0.00087118  0.00441484 -0.00486802 -0.00218725\n",
      "  0.0082103  -0.00415885 -0.00791591  0.00950734 -0.00225177 -0.00459785\n",
      "  0.00872686  0.00416199  0.00444061  0.00901144 -0.00846319  0.00536488\n",
      "  0.00227734  0.00421065  0.00169269  0.00446264  0.00454385  0.00594858\n",
      " -0.00346797 -0.00445627 -0.00047637  0.00237928 -0.0034444   0.00606119\n",
      "  0.00427331  0.00780528  0.00257922  0.0079611  -0.00147042  0.00814783\n",
      "  0.00368536 -0.0079664  -0.00382475 -0.00259228  0.00489712 -0.00066322\n",
      " -0.00289331  0.00780464  0.00952062 -0.00160962 -0.00523047 -0.0044477\n",
      " -0.00470918 -0.00943179  0.00124874 -0.00411004  0.00258153  0.00578937\n",
      " -0.00398946 -0.00958802  0.00175037 -0.00655516  0.00252862 -0.00369967\n",
      "  0.007034    0.00048387  0.00330256 -0.00274733 -0.00156051  0.00784805\n",
      "  0.00121339 -0.00587377 -0.00768028  0.0011807   0.00652531  0.00567711\n",
      " -0.00879694  0.00866381  0.00412505  0.00736831  0.01000445 -0.00723128\n",
      " -0.00892755  0.00572979  0.00944642  0.00366462]\n"
     ]
    }
   ],
   "source": [
    "# Afficher les premiers mots et leurs embeddings\n",
    "for word in list(word_embeddings.key_to_index)[:10]:\n",
    "    print(word, word_embeddings[word])"
   ]
  },
  {
   "cell_type": "code",
   "execution_count": 154,
   "metadata": {},
   "outputs": [
    {
     "ename": "KeyError",
     "evalue": "\"Key 'watch' not present in vocabulary\"",
     "output_type": "error",
     "traceback": [
      "\u001b[1;31m---------------------------------------------------------------------------\u001b[0m",
      "\u001b[1;31mKeyError\u001b[0m                                  Traceback (most recent call last)",
      "Cell \u001b[1;32mIn[154], line 7\u001b[0m\n\u001b[0;32m      4\u001b[0m     \u001b[38;5;28mprint\u001b[39m(\u001b[38;5;124mf\u001b[39m\u001b[38;5;124m\"\u001b[39m\u001b[38;5;124mEmbedding for \u001b[39m\u001b[38;5;124m'\u001b[39m\u001b[38;5;132;01m{\u001b[39;00mword\u001b[38;5;132;01m}\u001b[39;00m\u001b[38;5;124m'\u001b[39m\u001b[38;5;124m: \u001b[39m\u001b[38;5;132;01m{\u001b[39;00mword_embeddings[word]\u001b[38;5;132;01m}\u001b[39;00m\u001b[38;5;124m\"\u001b[39m)\n\u001b[0;32m      6\u001b[0m \u001b[38;5;66;03m# Trouver les mots les plus similaires\u001b[39;00m\n\u001b[1;32m----> 7\u001b[0m similar_words \u001b[38;5;241m=\u001b[39m \u001b[43mword_embeddings\u001b[49m\u001b[38;5;241;43m.\u001b[39;49m\u001b[43mmost_similar\u001b[49m\u001b[43m(\u001b[49m\u001b[38;5;124;43m'\u001b[39;49m\u001b[38;5;124;43mwatch\u001b[39;49m\u001b[38;5;124;43m'\u001b[39;49m\u001b[43m)\u001b[49m\n\u001b[0;32m      8\u001b[0m \u001b[38;5;28mprint\u001b[39m(\u001b[38;5;124mf\u001b[39m\u001b[38;5;124m\"\u001b[39m\u001b[38;5;124mWords most similar to \u001b[39m\u001b[38;5;124m'\u001b[39m\u001b[38;5;124mwatch\u001b[39m\u001b[38;5;124m'\u001b[39m\u001b[38;5;124m: \u001b[39m\u001b[38;5;132;01m{\u001b[39;00msimilar_words\u001b[38;5;132;01m}\u001b[39;00m\u001b[38;5;124m\"\u001b[39m)\n",
      "File \u001b[1;32mc:\\Users\\BS6517\\Documents_local\\projet_6\\oc_projet_6\\.venv\\Lib\\site-packages\\gensim\\models\\keyedvectors.py:841\u001b[0m, in \u001b[0;36mKeyedVectors.most_similar\u001b[1;34m(self, positive, negative, topn, clip_start, clip_end, restrict_vocab, indexer)\u001b[0m\n\u001b[0;32m    838\u001b[0m         weight[idx] \u001b[38;5;241m=\u001b[39m item[\u001b[38;5;241m1\u001b[39m]\n\u001b[0;32m    840\u001b[0m \u001b[38;5;66;03m# compute the weighted average of all keys\u001b[39;00m\n\u001b[1;32m--> 841\u001b[0m mean \u001b[38;5;241m=\u001b[39m \u001b[38;5;28;43mself\u001b[39;49m\u001b[38;5;241;43m.\u001b[39;49m\u001b[43mget_mean_vector\u001b[49m\u001b[43m(\u001b[49m\u001b[43mkeys\u001b[49m\u001b[43m,\u001b[49m\u001b[43m \u001b[49m\u001b[43mweight\u001b[49m\u001b[43m,\u001b[49m\u001b[43m \u001b[49m\u001b[43mpre_normalize\u001b[49m\u001b[38;5;241;43m=\u001b[39;49m\u001b[38;5;28;43;01mTrue\u001b[39;49;00m\u001b[43m,\u001b[49m\u001b[43m \u001b[49m\u001b[43mpost_normalize\u001b[49m\u001b[38;5;241;43m=\u001b[39;49m\u001b[38;5;28;43;01mTrue\u001b[39;49;00m\u001b[43m,\u001b[49m\u001b[43m \u001b[49m\u001b[43mignore_missing\u001b[49m\u001b[38;5;241;43m=\u001b[39;49m\u001b[38;5;28;43;01mFalse\u001b[39;49;00m\u001b[43m)\u001b[49m\n\u001b[0;32m    842\u001b[0m all_keys \u001b[38;5;241m=\u001b[39m [\n\u001b[0;32m    843\u001b[0m     \u001b[38;5;28mself\u001b[39m\u001b[38;5;241m.\u001b[39mget_index(key) \u001b[38;5;28;01mfor\u001b[39;00m key \u001b[38;5;129;01min\u001b[39;00m keys \u001b[38;5;28;01mif\u001b[39;00m \u001b[38;5;28misinstance\u001b[39m(key, _KEY_TYPES) \u001b[38;5;129;01mand\u001b[39;00m \u001b[38;5;28mself\u001b[39m\u001b[38;5;241m.\u001b[39mhas_index_for(key)\n\u001b[0;32m    844\u001b[0m ]\n\u001b[0;32m    846\u001b[0m \u001b[38;5;28;01mif\u001b[39;00m indexer \u001b[38;5;129;01mis\u001b[39;00m \u001b[38;5;129;01mnot\u001b[39;00m \u001b[38;5;28;01mNone\u001b[39;00m \u001b[38;5;129;01mand\u001b[39;00m \u001b[38;5;28misinstance\u001b[39m(topn, \u001b[38;5;28mint\u001b[39m):\n",
      "File \u001b[1;32mc:\\Users\\BS6517\\Documents_local\\projet_6\\oc_projet_6\\.venv\\Lib\\site-packages\\gensim\\models\\keyedvectors.py:518\u001b[0m, in \u001b[0;36mKeyedVectors.get_mean_vector\u001b[1;34m(self, keys, weights, pre_normalize, post_normalize, ignore_missing)\u001b[0m\n\u001b[0;32m    516\u001b[0m         total_weight \u001b[38;5;241m+\u001b[39m\u001b[38;5;241m=\u001b[39m \u001b[38;5;28mabs\u001b[39m(weights[idx])\n\u001b[0;32m    517\u001b[0m     \u001b[38;5;28;01melif\u001b[39;00m \u001b[38;5;129;01mnot\u001b[39;00m ignore_missing:\n\u001b[1;32m--> 518\u001b[0m         \u001b[38;5;28;01mraise\u001b[39;00m \u001b[38;5;167;01mKeyError\u001b[39;00m(\u001b[38;5;124mf\u001b[39m\u001b[38;5;124m\"\u001b[39m\u001b[38;5;124mKey \u001b[39m\u001b[38;5;124m'\u001b[39m\u001b[38;5;132;01m{\u001b[39;00mkey\u001b[38;5;132;01m}\u001b[39;00m\u001b[38;5;124m'\u001b[39m\u001b[38;5;124m not present in vocabulary\u001b[39m\u001b[38;5;124m\"\u001b[39m)\n\u001b[0;32m    520\u001b[0m \u001b[38;5;28;01mif\u001b[39;00m total_weight \u001b[38;5;241m>\u001b[39m \u001b[38;5;241m0\u001b[39m:\n\u001b[0;32m    521\u001b[0m     mean \u001b[38;5;241m=\u001b[39m mean \u001b[38;5;241m/\u001b[39m total_weight\n",
      "\u001b[1;31mKeyError\u001b[0m: \"Key 'watch' not present in vocabulary\""
     ]
    }
   ],
   "source": [
    "# Exemple d'utilisation des embeddings\n",
    "word = 'watch'\n",
    "if word in word_embeddings:\n",
    "    print(f\"Embedding for '{word}': {word_embeddings[word]}\")\n",
    "\n",
    "# Trouver les mots les plus similaires\n",
    "similar_words = word_embeddings.most_similar('watch')\n",
    "print(f\"Words most similar to 'watch': {similar_words}\")"
   ]
  },
  {
   "cell_type": "code",
   "execution_count": 116,
   "metadata": {},
   "outputs": [
    {
     "name": "stdout",
     "output_type": "stream",
     "text": [
      "Number of word embeddings: 5291\n"
     ]
    }
   ],
   "source": [
    "# compte le nombre de word embeddings\n",
    "print(f\"Number of word embeddings: {len(word_embeddings)}\")"
   ]
  },
  {
   "cell_type": "code",
   "execution_count": 118,
   "metadata": {},
   "outputs": [
    {
     "data": {
      "text/plain": [
       "numpy.ndarray"
      ]
     },
     "execution_count": 118,
     "metadata": {},
     "output_type": "execute_result"
    }
   ],
   "source": [
    "# convertit les embeddings en array\n",
    "type(word_embeddings.vectors)"
   ]
  },
  {
   "cell_type": "code",
   "execution_count": 119,
   "metadata": {},
   "outputs": [
    {
     "data": {
      "text/plain": [
       "5291"
      ]
     },
     "execution_count": 119,
     "metadata": {},
     "output_type": "execute_result"
    }
   ],
   "source": [
    "len(word_embeddings.vectors)"
   ]
  },
  {
   "cell_type": "code",
   "execution_count": 50,
   "metadata": {},
   "outputs": [],
   "source": [
    "# Import des librairies\n",
    "import numpy as np\n",
    "import pandas as pd\n",
    "import matplotlib.pyplot as plt\n",
    "import seaborn as sns\n",
    "import nltk\n",
    "import pickle\n",
    "import time\n",
    "from sklearn import cluster, metrics\n",
    "from sklearn import manifold, decomposition\n",
    "import logging\n",
    "\n",
    "logging.disable(logging.WARNING) # disable WARNING, INFO and DEBUG logging everywhere"
   ]
  },
  {
   "cell_type": "code",
   "execution_count": 52,
   "metadata": {},
   "outputs": [],
   "source": [
    "# Calcul Tsne, détermination des clusters et calcul ARI entre vrais catégorie et n° de clusters\n",
    "def ARI_fct(features) :\n",
    "    time1 = time.time()\n",
    "    num_labels=len(l_cat)\n",
    "    tsne = manifold.TSNE(n_components=2, perplexity=30, n_iter=2000, \n",
    "                                 init='random', learning_rate=200, random_state=42)\n",
    "    X_tsne = tsne.fit_transform(features)\n",
    "    \n",
    "    # Détermination des clusters à partir des données après Tsne \n",
    "    cls = cluster.KMeans(n_clusters=num_labels, n_init=100, random_state=42)\n",
    "    cls.fit(X_tsne)\n",
    "    ARI = np.round(metrics.adjusted_rand_score(y_cat_num, cls.labels_),4)\n",
    "    time2 = np.round(time.time() - time1,0)\n",
    "    print(\"ARI : \", ARI, \"time : \", time2)\n",
    "    \n",
    "    return ARI, X_tsne, cls.labels_"
   ]
  },
  {
   "cell_type": "code",
   "execution_count": 61,
   "metadata": {},
   "outputs": [
    {
     "data": {
      "text/plain": [
       "['Home Furnishing ',\n",
       " 'Baby Care ',\n",
       " 'Watches ',\n",
       " 'Home Decor & Festive Needs ',\n",
       " 'Kitchen & Dining ',\n",
       " 'Beauty and Personal Care ',\n",
       " 'Computers ']"
      ]
     },
     "execution_count": 61,
     "metadata": {},
     "output_type": "execute_result"
    }
   ],
   "source": [
    "l_cat = list(flipkart_filtered['category_0'].unique())\n",
    "l_cat"
   ]
  },
  {
   "cell_type": "code",
   "execution_count": 62,
   "metadata": {},
   "outputs": [],
   "source": [
    "y_cat_num = [(1-l_cat.index(flipkart_filtered.loc[i, 'category_0'])) for i in range(len(flipkart_filtered))]"
   ]
  },
  {
   "cell_type": "code",
   "execution_count": 63,
   "metadata": {},
   "outputs": [
    {
     "name": "stdout",
     "output_type": "stream",
     "text": [
      "Tf-idf : \n",
      "--------\n"
     ]
    },
    {
     "name": "stderr",
     "output_type": "stream",
     "text": [
      "c:\\Users\\BS6517\\Documents_local\\projet_6\\oc_projet_6\\.venv\\Lib\\site-packages\\sklearn\\manifold\\_t_sne.py:1162: FutureWarning: 'n_iter' was renamed to 'max_iter' in version 1.5 and will be removed in 1.7.\n",
      "  warnings.warn(\n"
     ]
    },
    {
     "name": "stdout",
     "output_type": "stream",
     "text": [
      "ARI :  0.5356 time :  10.0\n"
     ]
    }
   ],
   "source": [
    "print(\"Tf-idf : \")\n",
    "print(\"--------\")\n",
    "ARI, X_tsne, labels = ARI_fct(text_encoded)"
   ]
  },
  {
   "cell_type": "code",
   "execution_count": 69,
   "metadata": {},
   "outputs": [],
   "source": [
    "# visualisation du Tsne selon les vraies catégories et selon les clusters\n",
    "def TSNE_visu_fct(X_tsne, y_cat_num, labels, ARI) :\n",
    "    fig = plt.figure(figsize=(15,6))\n",
    "    \n",
    "    ax = fig.add_subplot(121)\n",
    "    scatter = ax.scatter(X_tsne[:,0],X_tsne[:,1], c=y_cat_num, cmap='Set1')\n",
    "    ax.legend(handles=scatter.legend_elements()[0], labels=l_cat, loc=\"best\", title=\"Categorie\")\n",
    "    plt.title('Représentation des commentaires par catégories réelles')\n",
    "    \n",
    "    ax = fig.add_subplot(122)\n",
    "    scatter = ax.scatter(X_tsne[:,0],X_tsne[:,1], c=labels, cmap='Set1')\n",
    "    ax.legend(handles=scatter.legend_elements()[0], labels=set(labels), loc=\"best\", title=\"Clusters\")\n",
    "    plt.title('Représentation des commentaires par clusters')\n",
    "    \n",
    "    plt.show()\n",
    "    print(\"ARI : \", ARI)"
   ]
  },
  {
   "cell_type": "code",
   "execution_count": 70,
   "metadata": {},
   "outputs": [
    {
     "data": {
      "image/png": "[encoded data removed]",
      "text/plain": [
       "<Figure size 1500x600 with 2 Axes>"
      ]
     },
     "metadata": {},
     "output_type": "display_data"
    },
    {
     "name": "stdout",
     "output_type": "stream",
     "text": [
      "ARI :  0.5356\n"
     ]
    }
   ],
   "source": [
    " TSNE_visu_fct(X_tsne, y_cat_num, labels, ARI)"
   ]
  },
  {
   "cell_type": "code",
   "execution_count": 74,
   "metadata": {},
   "outputs": [],
   "source": [
    "from umap import UMAP"
   ]
  },
  {
   "cell_type": "code",
   "execution_count": 111,
   "metadata": {},
   "outputs": [],
   "source": [
    "# Calcul Tsne, détermination des clusters et calcul ARI entre vrais catégorie et n° de clusters\n",
    "def ARI_umap_fct(features) :\n",
    "    time1 = time.time()\n",
    "    num_labels=len(l_cat)\n",
    "    # Calcul de l'embedding Umap pour un BOW TF-IDF\n",
    "    umap = UMAP(n_components=2, n_neighbors=15, min_dist=0.3, metric='cosine', random_state=42)\n",
    "    X_umap = umap.fit_transform(features)\n",
    "    \n",
    "    # Détermination des clusters à partir des données après Tsne \n",
    "    cls = cluster.KMeans(n_clusters=num_labels, n_init=100, random_state=42)\n",
    "    cls.fit(X_umap)\n",
    "    ARI = np.round(metrics.adjusted_rand_score(y_cat_num, cls.labels_),4)\n",
    "    time2 = np.round(time.time() - time1,0)\n",
    "    print(\"ARI : \", ARI, \"time : \", time2)\n",
    "    \n",
    "    return ARI, X_umap, cls.labels_"
   ]
  },
  {
   "cell_type": "code",
   "execution_count": 100,
   "metadata": {},
   "outputs": [],
   "source": [
    "# visualisation du Tsne selon les vraies catégories et selon les clusters\n",
    "def UMAP_visu_fct(X_umap, y_cat_num, labels, ARI) :\n",
    "    fig = plt.figure(figsize=(15,6))\n",
    "    \n",
    "    ax = fig.add_subplot(121)\n",
    "    scatter = ax.scatter(X_umap[:,0],X_umap[:,1], c=y_cat_num, cmap='Set1')\n",
    "    ax.legend(handles=scatter.legend_elements()[0], labels=l_cat, loc=\"best\", title=\"Categorie\")\n",
    "    plt.title('Représentation des commentaires par catégories réelles')\n",
    "    \n",
    "    ax = fig.add_subplot(122)\n",
    "    scatter = ax.scatter(X_umap[:,0],X_umap[:,1], c=labels, cmap='Set1')\n",
    "    ax.legend(handles=scatter.legend_elements()[0], labels=set(labels), loc=\"best\", title=\"Clusters\")\n",
    "    plt.title('Représentation des commentaires par clusters')\n",
    "    \n",
    "    plt.show()\n",
    "    print(\"ARI : \", ARI)"
   ]
  },
  {
   "cell_type": "code",
   "execution_count": 112,
   "metadata": {},
   "outputs": [
    {
     "name": "stdout",
     "output_type": "stream",
     "text": [
      "Tf-idf : \n",
      "--------\n"
     ]
    },
    {
     "name": "stderr",
     "output_type": "stream",
     "text": [
      "c:\\Users\\BS6517\\Documents_local\\projet_6\\oc_projet_6\\.venv\\Lib\\site-packages\\umap\\umap_.py:1945: UserWarning: n_jobs value 1 overridden to 1 by setting random_state. Use no seed for parallelism.\n",
      "  warn(f\"n_jobs value {self.n_jobs} overridden to 1 by setting random_state. Use no seed for parallelism.\")\n"
     ]
    },
    {
     "name": "stdout",
     "output_type": "stream",
     "text": [
      "ARI :  0.4614 time :  4.0\n"
     ]
    }
   ],
   "source": [
    "print(\"Tf-idf : \")\n",
    "print(\"--------\")\n",
    "ARI, X_umap, labels = ARI_umap_fct(text_encoded)"
   ]
  },
  {
   "cell_type": "code",
   "execution_count": 113,
   "metadata": {},
   "outputs": [
    {
     "data": {
      "image/png": "[encoded data removed]",
      "text/plain": [
       "<Figure size 1500x600 with 2 Axes>"
      ]
     },
     "metadata": {},
     "output_type": "display_data"
    },
    {
     "name": "stdout",
     "output_type": "stream",
     "text": [
      "ARI :  0.4614\n"
     ]
    }
   ],
   "source": [
    "UMAP_visu_fct(X_umap, y_cat_num, labels, ARI)"
   ]
  },
  {
   "cell_type": "code",
   "execution_count": 126,
   "metadata": {},
   "outputs": [],
   "source": [
    "len(word_embeddings.vectors)\n",
    "\n",
    "# Création d'un DataFrame avec les embeddings pour les 1050 rows\n",
    "word_embeddings_df = pd.DataFrame(word_embeddings.vectors, index=word_embeddings.index_to_key)"
   ]
  },
  {
   "cell_type": "code",
   "execution_count": 128,
   "metadata": {},
   "outputs": [
    {
     "data": {
      "text/plain": [
       "5291"
      ]
     },
     "execution_count": 128,
     "metadata": {},
     "output_type": "execute_result"
    }
   ],
   "source": [
    "len(word_embeddings_df)"
   ]
  },
  {
   "cell_type": "code",
   "execution_count": 127,
   "metadata": {},
   "outputs": [
    {
     "name": "stdout",
     "output_type": "stream",
     "text": [
      "W2C: \n",
      "--------\n"
     ]
    },
    {
     "name": "stderr",
     "output_type": "stream",
     "text": [
      "c:\\Users\\BS6517\\Documents_local\\projet_6\\oc_projet_6\\.venv\\Lib\\site-packages\\sklearn\\manifold\\_t_sne.py:1162: FutureWarning: 'n_iter' was renamed to 'max_iter' in version 1.5 and will be removed in 1.7.\n",
      "  warnings.warn(\n"
     ]
    },
    {
     "ename": "ValueError",
     "evalue": "Found input variables with inconsistent numbers of samples: [1050, 5291]",
     "output_type": "error",
     "traceback": [
      "\u001b[1;31m---------------------------------------------------------------------------\u001b[0m",
      "\u001b[1;31mValueError\u001b[0m                                Traceback (most recent call last)",
      "Cell \u001b[1;32mIn[127], line 3\u001b[0m\n\u001b[0;32m      1\u001b[0m \u001b[38;5;28mprint\u001b[39m(\u001b[38;5;124m\"\u001b[39m\u001b[38;5;124mW2C: \u001b[39m\u001b[38;5;124m\"\u001b[39m)\n\u001b[0;32m      2\u001b[0m \u001b[38;5;28mprint\u001b[39m(\u001b[38;5;124m\"\u001b[39m\u001b[38;5;124m--------\u001b[39m\u001b[38;5;124m\"\u001b[39m)\n\u001b[1;32m----> 3\u001b[0m ARI, X_tsne, labels \u001b[38;5;241m=\u001b[39m \u001b[43mARI_fct\u001b[49m\u001b[43m(\u001b[49m\u001b[43mword_embeddings_df\u001b[49m\u001b[43m)\u001b[49m\n",
      "Cell \u001b[1;32mIn[52], line 12\u001b[0m, in \u001b[0;36mARI_fct\u001b[1;34m(features)\u001b[0m\n\u001b[0;32m     10\u001b[0m \u001b[38;5;28mcls\u001b[39m \u001b[38;5;241m=\u001b[39m cluster\u001b[38;5;241m.\u001b[39mKMeans(n_clusters\u001b[38;5;241m=\u001b[39mnum_labels, n_init\u001b[38;5;241m=\u001b[39m\u001b[38;5;241m100\u001b[39m, random_state\u001b[38;5;241m=\u001b[39m\u001b[38;5;241m42\u001b[39m)\n\u001b[0;32m     11\u001b[0m \u001b[38;5;28mcls\u001b[39m\u001b[38;5;241m.\u001b[39mfit(X_tsne)\n\u001b[1;32m---> 12\u001b[0m ARI \u001b[38;5;241m=\u001b[39m np\u001b[38;5;241m.\u001b[39mround(\u001b[43mmetrics\u001b[49m\u001b[38;5;241;43m.\u001b[39;49m\u001b[43madjusted_rand_score\u001b[49m\u001b[43m(\u001b[49m\u001b[43my_cat_num\u001b[49m\u001b[43m,\u001b[49m\u001b[43m \u001b[49m\u001b[38;5;28;43mcls\u001b[39;49m\u001b[38;5;241;43m.\u001b[39;49m\u001b[43mlabels_\u001b[49m\u001b[43m)\u001b[49m,\u001b[38;5;241m4\u001b[39m)\n\u001b[0;32m     13\u001b[0m time2 \u001b[38;5;241m=\u001b[39m np\u001b[38;5;241m.\u001b[39mround(time\u001b[38;5;241m.\u001b[39mtime() \u001b[38;5;241m-\u001b[39m time1,\u001b[38;5;241m0\u001b[39m)\n\u001b[0;32m     14\u001b[0m \u001b[38;5;28mprint\u001b[39m(\u001b[38;5;124m\"\u001b[39m\u001b[38;5;124mARI : \u001b[39m\u001b[38;5;124m\"\u001b[39m, ARI, \u001b[38;5;124m\"\u001b[39m\u001b[38;5;124mtime : \u001b[39m\u001b[38;5;124m\"\u001b[39m, time2)\n",
      "File \u001b[1;32mc:\\Users\\BS6517\\Documents_local\\projet_6\\oc_projet_6\\.venv\\Lib\\site-packages\\sklearn\\utils\\_param_validation.py:213\u001b[0m, in \u001b[0;36mvalidate_params.<locals>.decorator.<locals>.wrapper\u001b[1;34m(*args, **kwargs)\u001b[0m\n\u001b[0;32m    207\u001b[0m \u001b[38;5;28;01mtry\u001b[39;00m:\n\u001b[0;32m    208\u001b[0m     \u001b[38;5;28;01mwith\u001b[39;00m config_context(\n\u001b[0;32m    209\u001b[0m         skip_parameter_validation\u001b[38;5;241m=\u001b[39m(\n\u001b[0;32m    210\u001b[0m             prefer_skip_nested_validation \u001b[38;5;129;01mor\u001b[39;00m global_skip_validation\n\u001b[0;32m    211\u001b[0m         )\n\u001b[0;32m    212\u001b[0m     ):\n\u001b[1;32m--> 213\u001b[0m         \u001b[38;5;28;01mreturn\u001b[39;00m \u001b[43mfunc\u001b[49m\u001b[43m(\u001b[49m\u001b[38;5;241;43m*\u001b[39;49m\u001b[43margs\u001b[49m\u001b[43m,\u001b[49m\u001b[43m \u001b[49m\u001b[38;5;241;43m*\u001b[39;49m\u001b[38;5;241;43m*\u001b[39;49m\u001b[43mkwargs\u001b[49m\u001b[43m)\u001b[49m\n\u001b[0;32m    214\u001b[0m \u001b[38;5;28;01mexcept\u001b[39;00m InvalidParameterError \u001b[38;5;28;01mas\u001b[39;00m e:\n\u001b[0;32m    215\u001b[0m     \u001b[38;5;66;03m# When the function is just a wrapper around an estimator, we allow\u001b[39;00m\n\u001b[0;32m    216\u001b[0m     \u001b[38;5;66;03m# the function to delegate validation to the estimator, but we replace\u001b[39;00m\n\u001b[0;32m    217\u001b[0m     \u001b[38;5;66;03m# the name of the estimator by the name of the function in the error\u001b[39;00m\n\u001b[0;32m    218\u001b[0m     \u001b[38;5;66;03m# message to avoid confusion.\u001b[39;00m\n\u001b[0;32m    219\u001b[0m     msg \u001b[38;5;241m=\u001b[39m re\u001b[38;5;241m.\u001b[39msub(\n\u001b[0;32m    220\u001b[0m         \u001b[38;5;124mr\u001b[39m\u001b[38;5;124m\"\u001b[39m\u001b[38;5;124mparameter of \u001b[39m\u001b[38;5;124m\\\u001b[39m\u001b[38;5;124mw+ must be\u001b[39m\u001b[38;5;124m\"\u001b[39m,\n\u001b[0;32m    221\u001b[0m         \u001b[38;5;124mf\u001b[39m\u001b[38;5;124m\"\u001b[39m\u001b[38;5;124mparameter of \u001b[39m\u001b[38;5;132;01m{\u001b[39;00mfunc\u001b[38;5;241m.\u001b[39m\u001b[38;5;18m__qualname__\u001b[39m\u001b[38;5;132;01m}\u001b[39;00m\u001b[38;5;124m must be\u001b[39m\u001b[38;5;124m\"\u001b[39m,\n\u001b[0;32m    222\u001b[0m         \u001b[38;5;28mstr\u001b[39m(e),\n\u001b[0;32m    223\u001b[0m     )\n",
      "File \u001b[1;32mc:\\Users\\BS6517\\Documents_local\\projet_6\\oc_projet_6\\.venv\\Lib\\site-packages\\sklearn\\metrics\\cluster\\_supervised.py:444\u001b[0m, in \u001b[0;36madjusted_rand_score\u001b[1;34m(labels_true, labels_pred)\u001b[0m\n\u001b[0;32m    346\u001b[0m \u001b[38;5;129m@validate_params\u001b[39m(\n\u001b[0;32m    347\u001b[0m     {\n\u001b[0;32m    348\u001b[0m         \u001b[38;5;124m\"\u001b[39m\u001b[38;5;124mlabels_true\u001b[39m\u001b[38;5;124m\"\u001b[39m: [\u001b[38;5;124m\"\u001b[39m\u001b[38;5;124marray-like\u001b[39m\u001b[38;5;124m\"\u001b[39m],\n\u001b[1;32m   (...)\u001b[0m\n\u001b[0;32m    352\u001b[0m )\n\u001b[0;32m    353\u001b[0m \u001b[38;5;28;01mdef\u001b[39;00m \u001b[38;5;21madjusted_rand_score\u001b[39m(labels_true, labels_pred):\n\u001b[0;32m    354\u001b[0m \u001b[38;5;250m    \u001b[39m\u001b[38;5;124;03m\"\"\"Rand index adjusted for chance.\u001b[39;00m\n\u001b[0;32m    355\u001b[0m \n\u001b[0;32m    356\u001b[0m \u001b[38;5;124;03m    The Rand Index computes a similarity measure between two clusterings\u001b[39;00m\n\u001b[1;32m   (...)\u001b[0m\n\u001b[0;32m    442\u001b[0m \u001b[38;5;124;03m      -0.5\u001b[39;00m\n\u001b[0;32m    443\u001b[0m \u001b[38;5;124;03m    \"\"\"\u001b[39;00m\n\u001b[1;32m--> 444\u001b[0m     (tn, fp), (fn, tp) \u001b[38;5;241m=\u001b[39m \u001b[43mpair_confusion_matrix\u001b[49m\u001b[43m(\u001b[49m\u001b[43mlabels_true\u001b[49m\u001b[43m,\u001b[49m\u001b[43m \u001b[49m\u001b[43mlabels_pred\u001b[49m\u001b[43m)\u001b[49m\n\u001b[0;32m    445\u001b[0m     \u001b[38;5;66;03m# convert to Python integer types, to avoid overflow or underflow\u001b[39;00m\n\u001b[0;32m    446\u001b[0m     tn, fp, fn, tp \u001b[38;5;241m=\u001b[39m \u001b[38;5;28mint\u001b[39m(tn), \u001b[38;5;28mint\u001b[39m(fp), \u001b[38;5;28mint\u001b[39m(fn), \u001b[38;5;28mint\u001b[39m(tp)\n",
      "File \u001b[1;32mc:\\Users\\BS6517\\Documents_local\\projet_6\\oc_projet_6\\.venv\\Lib\\site-packages\\sklearn\\utils\\_param_validation.py:186\u001b[0m, in \u001b[0;36mvalidate_params.<locals>.decorator.<locals>.wrapper\u001b[1;34m(*args, **kwargs)\u001b[0m\n\u001b[0;32m    184\u001b[0m global_skip_validation \u001b[38;5;241m=\u001b[39m get_config()[\u001b[38;5;124m\"\u001b[39m\u001b[38;5;124mskip_parameter_validation\u001b[39m\u001b[38;5;124m\"\u001b[39m]\n\u001b[0;32m    185\u001b[0m \u001b[38;5;28;01mif\u001b[39;00m global_skip_validation:\n\u001b[1;32m--> 186\u001b[0m     \u001b[38;5;28;01mreturn\u001b[39;00m \u001b[43mfunc\u001b[49m\u001b[43m(\u001b[49m\u001b[38;5;241;43m*\u001b[39;49m\u001b[43margs\u001b[49m\u001b[43m,\u001b[49m\u001b[43m \u001b[49m\u001b[38;5;241;43m*\u001b[39;49m\u001b[38;5;241;43m*\u001b[39;49m\u001b[43mkwargs\u001b[49m\u001b[43m)\u001b[49m\n\u001b[0;32m    188\u001b[0m func_sig \u001b[38;5;241m=\u001b[39m signature(func)\n\u001b[0;32m    190\u001b[0m \u001b[38;5;66;03m# Map *args/**kwargs to the function signature\u001b[39;00m\n",
      "File \u001b[1;32mc:\\Users\\BS6517\\Documents_local\\projet_6\\oc_projet_6\\.venv\\Lib\\site-packages\\sklearn\\metrics\\cluster\\_supervised.py:250\u001b[0m, in \u001b[0;36mpair_confusion_matrix\u001b[1;34m(labels_true, labels_pred)\u001b[0m\n\u001b[0;32m    183\u001b[0m \u001b[38;5;129m@validate_params\u001b[39m(\n\u001b[0;32m    184\u001b[0m     {\n\u001b[0;32m    185\u001b[0m         \u001b[38;5;124m\"\u001b[39m\u001b[38;5;124mlabels_true\u001b[39m\u001b[38;5;124m\"\u001b[39m: [\u001b[38;5;124m\"\u001b[39m\u001b[38;5;124marray-like\u001b[39m\u001b[38;5;124m\"\u001b[39m],\n\u001b[1;32m   (...)\u001b[0m\n\u001b[0;32m    189\u001b[0m )\n\u001b[0;32m    190\u001b[0m \u001b[38;5;28;01mdef\u001b[39;00m \u001b[38;5;21mpair_confusion_matrix\u001b[39m(labels_true, labels_pred):\n\u001b[0;32m    191\u001b[0m \u001b[38;5;250m    \u001b[39m\u001b[38;5;124;03m\"\"\"Pair confusion matrix arising from two clusterings.\u001b[39;00m\n\u001b[0;32m    192\u001b[0m \n\u001b[0;32m    193\u001b[0m \u001b[38;5;124;03m    The pair confusion matrix :math:`C` computes a 2 by 2 similarity matrix\u001b[39;00m\n\u001b[1;32m   (...)\u001b[0m\n\u001b[0;32m    248\u001b[0m \u001b[38;5;124;03m    Note that the matrix is not symmetric.\u001b[39;00m\n\u001b[0;32m    249\u001b[0m \u001b[38;5;124;03m    \"\"\"\u001b[39;00m\n\u001b[1;32m--> 250\u001b[0m     labels_true, labels_pred \u001b[38;5;241m=\u001b[39m \u001b[43mcheck_clusterings\u001b[49m\u001b[43m(\u001b[49m\u001b[43mlabels_true\u001b[49m\u001b[43m,\u001b[49m\u001b[43m \u001b[49m\u001b[43mlabels_pred\u001b[49m\u001b[43m)\u001b[49m\n\u001b[0;32m    251\u001b[0m     n_samples \u001b[38;5;241m=\u001b[39m np\u001b[38;5;241m.\u001b[39mint64(labels_true\u001b[38;5;241m.\u001b[39mshape[\u001b[38;5;241m0\u001b[39m])\n\u001b[0;32m    253\u001b[0m     \u001b[38;5;66;03m# Computation using the contingency data\u001b[39;00m\n",
      "File \u001b[1;32mc:\\Users\\BS6517\\Documents_local\\projet_6\\oc_projet_6\\.venv\\Lib\\site-packages\\sklearn\\metrics\\cluster\\_supervised.py:73\u001b[0m, in \u001b[0;36mcheck_clusterings\u001b[1;34m(labels_true, labels_pred)\u001b[0m\n\u001b[0;32m     71\u001b[0m \u001b[38;5;28;01mif\u001b[39;00m labels_pred\u001b[38;5;241m.\u001b[39mndim \u001b[38;5;241m!=\u001b[39m \u001b[38;5;241m1\u001b[39m:\n\u001b[0;32m     72\u001b[0m     \u001b[38;5;28;01mraise\u001b[39;00m \u001b[38;5;167;01mValueError\u001b[39;00m(\u001b[38;5;124m\"\u001b[39m\u001b[38;5;124mlabels_pred must be 1D: shape is \u001b[39m\u001b[38;5;132;01m%r\u001b[39;00m\u001b[38;5;124m\"\u001b[39m \u001b[38;5;241m%\u001b[39m (labels_pred\u001b[38;5;241m.\u001b[39mshape,))\n\u001b[1;32m---> 73\u001b[0m \u001b[43mcheck_consistent_length\u001b[49m\u001b[43m(\u001b[49m\u001b[43mlabels_true\u001b[49m\u001b[43m,\u001b[49m\u001b[43m \u001b[49m\u001b[43mlabels_pred\u001b[49m\u001b[43m)\u001b[49m\n\u001b[0;32m     75\u001b[0m \u001b[38;5;28;01mreturn\u001b[39;00m labels_true, labels_pred\n",
      "File \u001b[1;32mc:\\Users\\BS6517\\Documents_local\\projet_6\\oc_projet_6\\.venv\\Lib\\site-packages\\sklearn\\utils\\validation.py:457\u001b[0m, in \u001b[0;36mcheck_consistent_length\u001b[1;34m(*arrays)\u001b[0m\n\u001b[0;32m    455\u001b[0m uniques \u001b[38;5;241m=\u001b[39m np\u001b[38;5;241m.\u001b[39munique(lengths)\n\u001b[0;32m    456\u001b[0m \u001b[38;5;28;01mif\u001b[39;00m \u001b[38;5;28mlen\u001b[39m(uniques) \u001b[38;5;241m>\u001b[39m \u001b[38;5;241m1\u001b[39m:\n\u001b[1;32m--> 457\u001b[0m     \u001b[38;5;28;01mraise\u001b[39;00m \u001b[38;5;167;01mValueError\u001b[39;00m(\n\u001b[0;32m    458\u001b[0m         \u001b[38;5;124m\"\u001b[39m\u001b[38;5;124mFound input variables with inconsistent numbers of samples: \u001b[39m\u001b[38;5;132;01m%r\u001b[39;00m\u001b[38;5;124m\"\u001b[39m\n\u001b[0;32m    459\u001b[0m         \u001b[38;5;241m%\u001b[39m [\u001b[38;5;28mint\u001b[39m(l) \u001b[38;5;28;01mfor\u001b[39;00m l \u001b[38;5;129;01min\u001b[39;00m lengths]\n\u001b[0;32m    460\u001b[0m     )\n",
      "\u001b[1;31mValueError\u001b[0m: Found input variables with inconsistent numbers of samples: [1050, 5291]"
     ]
    }
   ],
   "source": [
    "print(\"W2C: \")\n",
    "print(\"--------\")\n",
    "ARI, X_tsne, labels = ARI_fct(word_embeddings_df)"
   ]
  },
  {
   "cell_type": "code",
   "execution_count": null,
   "metadata": {},
   "outputs": [],
   "source": [
    "TSNE_visu_fct(X_tsne, y_cat_num, labels, ARI)"
   ]
  },
  {
   "cell_type": "code",
   "execution_count": 130,
   "metadata": {},
   "outputs": [],
   "source": [
    "nlp_trf = spacy.load(\"en_core_web_trf\")"
   ]
  },
  {
   "cell_type": "code",
   "execution_count": 131,
   "metadata": {},
   "outputs": [
    {
     "data": {
      "text/plain": [
       "['transformer', 'tagger', 'parser', 'attribute_ruler', 'lemmatizer', 'ner']"
      ]
     },
     "execution_count": 131,
     "metadata": {},
     "output_type": "execute_result"
    }
   ],
   "source": [
    "nlp_trf.pipe_names"
   ]
  },
  {
   "cell_type": "markdown",
   "metadata": {},
   "source": [
    "# GLOVE"
   ]
  },
  {
   "cell_type": "code",
   "execution_count": 133,
   "metadata": {},
   "outputs": [],
   "source": [
    "# Loading the vectors from the glove text file\n",
    "def load_glove_vectors(glove_file):\n",
    "    with open(glove_file, 'r', encoding='utf-8') as f:\n",
    "        words = set()\n",
    "        word_to_vec_map = {}\n",
    "        for line in f:\n",
    "            line = line.strip().split()\n",
    "            curr_word = line[0]\n",
    "            words.add(curr_word)\n",
    "            word_to_vec_map[curr_word] = np.array(line[1:], dtype=np.float64)\n",
    "    return words, word_to_vec_map\n"
   ]
  },
  {
   "cell_type": "code",
   "execution_count": 135,
   "metadata": {},
   "outputs": [],
   "source": [
    "# Load the glove vectors 100d\n",
    "words, word_to_vec_map = load_glove_vectors(\"./Glove/glove.6B.100d.txt\")"
   ]
  },
  {
   "cell_type": "code",
   "execution_count": 139,
   "metadata": {},
   "outputs": [
    {
     "name": "stdout",
     "output_type": "stream",
     "text": [
      "Number of words: 400000\n",
      "Number of word vectors: 400000\n"
     ]
    }
   ],
   "source": [
    "# Print the number of words and the number of word vectors\n",
    "print(f\"Number of words: {len(words)}\")\n",
    "print(f\"Number of word vectors: {len(word_to_vec_map)}\")"
   ]
  },
  {
   "cell_type": "code",
   "execution_count": null,
   "metadata": {},
   "outputs": [],
   "source": []
  }
 ],
 "metadata": {
  "kernelspec": {
   "display_name": ".venv",
   "language": "python",
   "name": "python3"
  },
  "language_info": {
   "codemirror_mode": {
    "name": "ipython",
    "version": 3
   },
   "file_extension": ".py",
   "mimetype": "text/x-python",
   "name": "python",
   "nbconvert_exporter": "python",
   "pygments_lexer": "ipython3",
   "version": "3.11.8"
  }
 },
 "nbformat": 4,
 "nbformat_minor": 2
}
