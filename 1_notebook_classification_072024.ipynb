{
 "cells": [
  {
   "cell_type": "markdown",
   "metadata": {},
   "source": [
    "**Livrable** : Un ou des notebooks (ou des fichiers .py) contenant les fonctions permettant le prétraitement et la feature extraction des données textes et images ainsi que les résultats de l’étude de faisabilité (graphiques, mesure de similarité) "
   ]
  },
  {
   "cell_type": "code",
   "execution_count": 17,
   "metadata": {},
   "outputs": [],
   "source": [
    "import os\n",
    "import pandas as pd\n",
    "import numpy as np"
   ]
  },
  {
   "cell_type": "markdown",
   "metadata": {},
   "source": [
    "# Lecture du jeu de données flipkart"
   ]
  },
  {
   "cell_type": "code",
   "execution_count": 8,
   "metadata": {},
   "outputs": [],
   "source": [
    "# Read the content of the flipkart.csv file\n",
    "flipkart = pd.read_csv('pj1_flipkart.csv')"
   ]
  },
  {
   "cell_type": "code",
   "execution_count": null,
   "metadata": {},
   "outputs": [],
   "source": []
  },
  {
   "cell_type": "markdown",
   "metadata": {},
   "source": [
    "# Commentaires sur le fichier flipkart après visualisation sur le data wrangler"
   ]
  },
  {
   "cell_type": "markdown",
   "metadata": {},
   "source": [
    "| Champs                    | Description                                                                                  | Utile |\n",
    "|---------------------------|----------------------------------------------------------------------------------------------|-------|\n",
    "| uniq_id                   | Nom des fichiers images dans le répertoire image                                             | O     |\n",
    "| crawl_timestamp           | Timestamp du crawler qui a récupéré les images                                               | N     |\n",
    "| product_url               | Lien URL des produits dont ont été tirées les images sur Flipkart                             | N     |\n",
    "| product_name              | Nom du produit associé à l'image                                                             | O     |\n",
    "| product_category_tree     | Fil d'ariane à extraire de la catégorie de produit categorical                               | O     |\n",
    "| pid                       | Product ID                                                                                   | N     |\n",
    "| retail_price              | Prix                                                                                         | O     |\n",
    "| discounted_price          | Prix réduit                                                                                  | O     |\n",
    "| image                     | La même chose que uniq_id mais avec le format à la fin                                       | O     |\n",
    "| is_FK_Advantage_product   | Série booléenne de ?                                                                         | N     |\n",
    "| description               | Description string du produit                                                                | O     |\n",
    "| product_rating            | Note moyenne, attention les valeurs nulles sont remplacées par 'No rating available'         | O     |\n",
    "| overall_rating            | Semble identique                                                                             | N     |\n",
    "| brand                     | La marque, contient beaucoup de valeurs manquantes, peut être récupéré du product name       | N     |\n",
    "| product_specifications    | Sous forme de K-V pair sur les key feature du produit                                        | O     |\n"
   ]
  },
  {
   "cell_type": "markdown",
   "metadata": {},
   "source": [
    "# Vérification sur les champs"
   ]
  },
  {
   "cell_type": "code",
   "execution_count": 29,
   "metadata": {},
   "outputs": [
    {
     "name": "stdout",
     "output_type": "stream",
     "text": [
      "Nombre de fichiers dans le répertoire Images:  1050\n"
     ]
    }
   ],
   "source": [
    "# Count the number of files in the current directory\n",
    "print(\"Nombre de fichiers dans le répertoire Images: \", len(os.listdir(\"./Images\")))\n",
    "\n",
    "# Check if the number of lines in the flipkart.csv file is equal to the number of files in the Images directory\n",
    "assert (\n",
    "    len(os.listdir(\"./Images\")) == len(flipkart)\n",
    "), \"Le nombre de lignes ne corresponds pas au nombre de fichiers dans le repertoire Images\"\n",
    "\n",
    "# Check if the uniq_id column has the same names than the files in the Images directory\n",
    "files_without_jpg = [file.strip(\".jpg\") for file in os.listdir(\"./Images\")]\n",
    "assert (\n",
    "    flipkart[\"uniq_id\"].isin(files_without_jpg).all()\n",
    "), \"Les fichiers dans le repertoire Images ne correspondent pas aux fichiers dans le fichier flipkart.csv\"\n"
   ]
  },
  {
   "cell_type": "code",
   "execution_count": 30,
   "metadata": {},
   "outputs": [],
   "source": [
    "# Check if the image column is equal to the uniq_id column with the .jpg extension\n",
    "assert flipkart[\"uniq_id\"].equals(\n",
    "    flipkart[\"image\"].str.strip(\".jpg\")\n",
    "), \"les colonnes image sans l'extension .jpg et uniq_id ne correspondent pas\"\n"
   ]
  },
  {
   "cell_type": "code",
   "execution_count": 31,
   "metadata": {},
   "outputs": [],
   "source": [
    "# Check if the product_rating column is equal to the overall_rating column\n",
    "assert flipkart[\"product_rating\"].equals(\n",
    "    flipkart[\"overall_rating\"]\n",
    "), \"les colonnes product_rating et overall_rating ne correspondent pas\"\n"
   ]
  },
  {
   "cell_type": "code",
   "execution_count": 28,
   "metadata": {},
   "outputs": [],
   "source": [
    "fields = [\n",
    "    \"uniq_id\",\n",
    "    \"product_name\",\n",
    "    \"product_category_tree\",\n",
    "    \"retail_price\",\n",
    "    \"discounted_price\",\n",
    "    \"image\",\n",
    "    \"description\",\n",
    "    \"product_rating\",\n",
    "    \"product_specifications\"\n",
    "]\n"
   ]
  },
  {
   "cell_type": "code",
   "execution_count": null,
   "metadata": {},
   "outputs": [],
   "source": []
  }
 ],
 "metadata": {
  "kernelspec": {
   "display_name": ".venv",
   "language": "python",
   "name": "python3"
  },
  "language_info": {
   "codemirror_mode": {
    "name": "ipython",
    "version": 3
   },
   "file_extension": ".py",
   "mimetype": "text/x-python",
   "name": "python",
   "nbconvert_exporter": "python",
   "pygments_lexer": "ipython3",
   "version": "3.11.8"
  }
 },
 "nbformat": 4,
 "nbformat_minor": 2
}
